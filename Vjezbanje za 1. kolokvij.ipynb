{
 "cells": [
  {
   "cell_type": "code",
   "execution_count": 1,
   "metadata": {},
   "outputs": [
    {
     "name": "stdout",
     "output_type": "stream",
     "text": [
      "Elena\n",
      "Hello, Elena!\n"
     ]
    }
   ],
   "source": [
    "# Read the name:\n",
    "name = input()\n",
    "\n",
    "# Print the result using:\n",
    "print('Hello, ' + name + '!')"
   ]
  },
  {
   "cell_type": "code",
   "execution_count": 2,
   "metadata": {},
   "outputs": [
    {
     "name": "stdout",
     "output_type": "stream",
     "text": [
      "12.6\n",
      "12\n",
      "3\n"
     ]
    }
   ],
   "source": [
    "# Example of division, integer division and remainder:\n",
    "print(63 / 5)\n",
    "print(63 // 5)\n",
    "print(63 % 5)"
   ]
  },
  {
   "cell_type": "code",
   "execution_count": 3,
   "metadata": {},
   "outputs": [
    {
     "name": "stdout",
     "output_type": "stream",
     "text": [
      "Prethodnik je: -1\n",
      "Sljedbenik je: 1\n"
     ]
    }
   ],
   "source": [
    "a = int(0)\n",
    "prethodnik = a - 1\n",
    "sljedbenik = a + 1\n",
    "\n",
    "print(\"Prethodnik je: \" + str(prethodnik))\n",
    "print(\"Sljedbenik je: \" + str(sljedbenik))"
   ]
  },
  {
   "cell_type": "code",
   "execution_count": 4,
   "metadata": {},
   "outputs": [
    {
     "name": "stdout",
     "output_type": "stream",
     "text": [
      "Ukupan broj stolova: 32\n"
     ]
    }
   ],
   "source": [
    "a = int(20)\n",
    "b = int(21)\n",
    "c = int(22)\n",
    "\n",
    "ap = a // 2 + a % 2\n",
    "bp = b // 2 + b % 2\n",
    "cp = c // 2 + c % 2\n",
    "zbroj = ap + bp + cp\n",
    "print(\"Ukupan broj stolova: \" + str(zbroj))"
   ]
  },
  {
   "cell_type": "code",
   "execution_count": 5,
   "metadata": {},
   "outputs": [
    {
     "name": "stdout",
     "output_type": "stream",
     "text": [
      "1\n",
      "2\n",
      "-1\n",
      "-2\n"
     ]
    }
   ],
   "source": [
    "print(round(1.3))   # gives 1\n",
    "print(round(1.7))   # gives 2\n",
    "print(round(-1.3))  # gives -1\n",
    "print(round(-1.7))  # gives -2"
   ]
  },
  {
   "cell_type": "code",
   "execution_count": 6,
   "metadata": {},
   "outputs": [
    {
     "name": "stdout",
     "output_type": "stream",
     "text": [
      "5\n",
      "5\n"
     ]
    }
   ],
   "source": [
    "import math\n",
    "\n",
    "x = math.ceil(4.2) # najmanje cijelo\n",
    "print(x)\n",
    "print(math.ceil(1 + 3.8))"
   ]
  },
  {
   "cell_type": "code",
   "execution_count": 7,
   "metadata": {},
   "outputs": [
    {
     "name": "stdout",
     "output_type": "stream",
     "text": [
      "4\n"
     ]
    }
   ],
   "source": [
    "# ili\n",
    "from math import ceil\n",
    " \n",
    "x = 7 / 2\n",
    "y = ceil(x)\n",
    "print(y)"
   ]
  },
  {
   "cell_type": "code",
   "execution_count": 8,
   "metadata": {},
   "outputs": [
    {
     "name": "stdout",
     "output_type": "stream",
     "text": [
      "3\n",
      "-4\n",
      "3\n"
     ]
    }
   ],
   "source": [
    "# najvece cijelo\n",
    "x = math.floor(3.14)\n",
    "print(x)\n",
    "z = math.floor(-3.14)\n",
    "print(z)\n",
    "y = math.floor(3.94)\n",
    "print(y)"
   ]
  },
  {
   "cell_type": "code",
   "execution_count": 9,
   "metadata": {},
   "outputs": [
    {
     "data": {
      "text/plain": [
       "1.7320508075688772"
      ]
     },
     "execution_count": 9,
     "metadata": {},
     "output_type": "execute_result"
    }
   ],
   "source": [
    "math.sqrt(x)"
   ]
  },
  {
   "cell_type": "code",
   "execution_count": 10,
   "metadata": {},
   "outputs": [
    {
     "data": {
      "text/plain": [
       "1.0"
      ]
     },
     "execution_count": 10,
     "metadata": {},
     "output_type": "execute_result"
    }
   ],
   "source": [
    "math.log(math.e)"
   ]
  },
  {
   "cell_type": "code",
   "execution_count": 11,
   "metadata": {},
   "outputs": [
    {
     "data": {
      "text/plain": [
       "3.3219280948873626"
      ]
     },
     "execution_count": 11,
     "metadata": {},
     "output_type": "execute_result"
    }
   ],
   "source": [
    "math.log(10,2) # log(argument, baza), default baza = e"
   ]
  },
  {
   "cell_type": "code",
   "execution_count": 12,
   "metadata": {},
   "outputs": [
    {
     "data": {
      "text/plain": [
       "3.141592653589793"
      ]
     },
     "execution_count": 12,
     "metadata": {},
     "output_type": "execute_result"
    }
   ],
   "source": [
    "math.pi"
   ]
  },
  {
   "cell_type": "code",
   "execution_count": 13,
   "metadata": {},
   "outputs": [
    {
     "data": {
      "text/plain": [
       "0.8660254037844386"
      ]
     },
     "execution_count": 13,
     "metadata": {},
     "output_type": "execute_result"
    }
   ],
   "source": [
    "math.sin(math.pi/3) # argument radijani"
   ]
  },
  {
   "cell_type": "code",
   "execution_count": 14,
   "metadata": {},
   "outputs": [
    {
     "name": "stdout",
     "output_type": "stream",
     "text": [
      "5\n"
     ]
    }
   ],
   "source": [
    "# znamenka stotica\n",
    "a = int(7856)\n",
    "\n",
    "b = a % 100\n",
    "print(b // 10)"
   ]
  },
  {
   "cell_type": "code",
   "execution_count": 15,
   "metadata": {},
   "outputs": [
    {
     "name": "stdout",
     "output_type": "stream",
     "text": [
      "15\n"
     ]
    }
   ],
   "source": [
    "# suma znamenaka troznamenkastog broja\n",
    "a = int(456)\n",
    "\n",
    "b = a % 10\n",
    "c = a % 100\n",
    "d = c // 10\n",
    "e = a // 100\n",
    "print(b + d + e)"
   ]
  },
  {
   "cell_type": "code",
   "execution_count": 16,
   "metadata": {},
   "outputs": [
    {
     "name": "stdout",
     "output_type": "stream",
     "text": [
      "12\n",
      "0.3687\n"
     ]
    }
   ],
   "source": [
    "a = float(12.3687)\n",
    "\n",
    "y = str(a).split('.')\n",
    "print(y[0]) # cijeli dio decimalnog broja\n",
    "print(\"0.\" + str(y[1])) # decimale"
   ]
  },
  {
   "cell_type": "code",
   "execution_count": 24,
   "metadata": {},
   "outputs": [
    {
     "name": "stdout",
     "output_type": "stream",
     "text": [
      "0\n"
     ]
    }
   ],
   "source": [
    "# prvi broj nakon decimalne tocke\n",
    "a = 524.023\n",
    "\n",
    "result = str(a).index('.')\n",
    "value = str(a)[result + 1]\n",
    "print(value)"
   ]
  },
  {
   "cell_type": "code",
   "execution_count": 18,
   "metadata": {},
   "outputs": [
    {
     "name": "stdout",
     "output_type": "stream",
     "text": [
      "2:30\n"
     ]
    }
   ],
   "source": [
    "# digitalni sat, N = broj minuta proteklih od ponoci\n",
    "N = int(150)\n",
    "\n",
    "a = N // 60\n",
    "b = N % 60\n",
    "print(str(a) + ':' + str(b))"
   ]
  },
  {
   "cell_type": "code",
   "execution_count": 19,
   "metadata": {},
   "outputs": [
    {
     "name": "stdout",
     "output_type": "stream",
     "text": [
      "10 0\n"
     ]
    }
   ],
   "source": [
    "# d = dollar, c = cent, N = broj krafni\n",
    "A = 2\n",
    "B = 50\n",
    "N = 4\n",
    "\n",
    "d = A * N + (B * N) // 100\n",
    "c = (B * N) % 100\n",
    "print(str(d) + ' ' + str(c))"
   ]
  },
  {
   "cell_type": "code",
   "execution_count": 20,
   "metadata": {},
   "outputs": [
    {
     "name": "stdout",
     "output_type": "stream",
     "text": [
      "31.05\n"
     ]
    }
   ],
   "source": [
    "# kut koji zatvara digitalni sat u odnosu na ponoc\n",
    "def limit(num, minimum, maximum):\n",
    "  return max(min(num, maximum), minimum)\n",
    "H = limit(1, 0, 12) \n",
    "M = limit(2, 0, 60)\n",
    "S = limit(6, 0, 60)\n",
    "\n",
    "kut = H * 30 + M * 0.5 + S / 120\n",
    "print(round(kut, 3))"
   ]
  },
  {
   "cell_type": "code",
   "execution_count": 25,
   "metadata": {},
   "outputs": [
    {
     "name": "stdout",
     "output_type": "stream",
     "text": [
      "120\n"
     ]
    }
   ],
   "source": [
    "# kut medju kazaljkama ako je zadan kut velike kazaljke\n",
    "a = 190\n",
    "\n",
    "# The hour hand turns by 30 degrees for each hour. \n",
    "# So the total amount mod 30 gives you the degrees \n",
    "# it has moved since the start of the hour.\n",
    "kutVelikeKazaljkeUOdnosuNaPuniSat = (a % 30)\n",
    "\n",
    "# The minute hand moves 12° for every 1° the hour hand moves.\n",
    "alpha = kutVelikeKazaljkeUOdnosuNaPuniSat * 12\n",
    "\n",
    "print(round(alpha, 4))"
   ]
  },
  {
   "cell_type": "code",
   "execution_count": 26,
   "metadata": {},
   "outputs": [
    {
     "name": "stdout",
     "output_type": "stream",
     "text": [
      "Quadrant II\n"
     ]
    }
   ],
   "source": [
    "# elif\n",
    "x = -5\n",
    "y = 7\n",
    "\n",
    "if x > 0 and y > 0:\n",
    "    print(\"Quadrant I\")\n",
    "elif x > 0 and y < 0:\n",
    "    print(\"Quadrant IV\")\n",
    "elif y > 0:\n",
    "    print(\"Quadrant II\")\n",
    "else:\n",
    "    print(\"Quadrant III\")"
   ]
  },
  {
   "cell_type": "code",
   "execution_count": 31,
   "metadata": {},
   "outputs": [
    {
     "name": "stdout",
     "output_type": "stream",
     "text": [
      "NO\n"
     ]
    }
   ],
   "source": [
    "# determine whether a chess rook can go from the first cell to the second in one move\n",
    "colpoc = 4\n",
    "rowpoc = 4\n",
    "colkraj = 5\n",
    "rowkraj = 5\n",
    "\n",
    "if colpoc == colkraj or rowpoc == rowkraj :\n",
    "    print(\"YES\")\n",
    "else:\n",
    "    print(\"NO\")"
   ]
  },
  {
   "cell_type": "code",
   "execution_count": 32,
   "metadata": {},
   "outputs": [
    {
     "name": "stdout",
     "output_type": "stream",
     "text": [
      "YES\n"
     ]
    }
   ],
   "source": [
    "# Chess board - same color\n",
    "colpoc = 1\n",
    "rowpoc = 2\n",
    "colkraj = 2\n",
    "rowkraj = 1\n",
    "\n",
    "if (colpoc + rowpoc) % 2 == 0 and (colkraj + rowkraj) % 2 == 0 :\n",
    "    print(\"YES\")\n",
    "elif (colpoc + rowpoc) % 2 != 0 and (colkraj + rowkraj) % 2 != 0 :\n",
    "    print(\"YES\")\n",
    "else:\n",
    "    print(\"NO\")"
   ]
  },
  {
   "cell_type": "code",
   "execution_count": 33,
   "metadata": {},
   "outputs": [
    {
     "name": "stdout",
     "output_type": "stream",
     "text": [
      "YES\n"
     ]
    }
   ],
   "source": [
    "# Chess King move\n",
    "colpoc = 5\n",
    "rowpoc = 4\n",
    "colkraj = 4\n",
    "rowkraj = 3\n",
    "\n",
    "if (colpoc == colkraj) and (rowpoc == rowkraj + 1 or rowpoc == rowkraj - 1) :\n",
    "    print(\"YES\")\n",
    "elif rowpoc == rowkraj and (colpoc == colkraj + 1 or colpoc == colkraj - 1) :\n",
    "    print(\"YES\")\n",
    "elif (rowkraj == rowpoc + 1) and (colkraj == colpoc - 1 or colkraj == colpoc + 1) :\n",
    "    print(\"YES\")\n",
    "elif (rowkraj == rowpoc - 1) and (colkraj == colpoc - 1 or colkraj == colpoc + 1) :\n",
    "    print(\"YES\")\n",
    "else:\n",
    "    print(\"NO\")"
   ]
  },
  {
   "cell_type": "code",
   "execution_count": 34,
   "metadata": {},
   "outputs": [
    {
     "name": "stdout",
     "output_type": "stream",
     "text": [
      "Hello, world!\n",
      "Hello, world!\n",
      "Hello, world!\n",
      "Hello, world!\n"
     ]
    }
   ],
   "source": [
    "for i in range(2 ** 2):\n",
    "    print('Hello, world!')"
   ]
  },
  {
   "cell_type": "code",
   "execution_count": 35,
   "metadata": {},
   "outputs": [
    {
     "name": "stdout",
     "output_type": "stream",
     "text": [
      "10\n",
      "8\n",
      "6\n",
      "4\n",
      "2\n"
     ]
    }
   ],
   "source": [
    "# range(start_value, end_value, step)\n",
    "for i in range(10, 0, -2):\n",
    "    print(i)"
   ]
  },
  {
   "cell_type": "code",
   "execution_count": 36,
   "metadata": {},
   "outputs": [
    {
     "name": "stdout",
     "output_type": "stream",
     "text": [
      "1 2 3\n",
      "4 5 6\n",
      "1, 2, 3. 4, 5, 6. \n",
      "123 -- 4 * 5 * 6."
     ]
    }
   ],
   "source": [
    "print(1, 2, 3)\n",
    "print(4, 5, 6)\n",
    "print(1, 2, 3, sep=', ', end='. ')\n",
    "print(4, 5, 6, sep=', ', end='. ')\n",
    "print()\n",
    "print(1, 2, 3, sep='', end=' -- ')\n",
    "print(4, 5, 6, sep=' * ', end='.')"
   ]
  },
  {
   "cell_type": "code",
   "execution_count": 37,
   "metadata": {},
   "outputs": [
    {
     "name": "stdout",
     "output_type": "stream",
     "text": [
      "1 2 3 4 5 6 7 8 9 10 "
     ]
    }
   ],
   "source": [
    "a = 1\n",
    "b = 10\n",
    "\n",
    "for broj in range (a, b + 1):\n",
    "    print(broj, end =' ');"
   ]
  },
  {
   "cell_type": "code",
   "execution_count": 55,
   "metadata": {},
   "outputs": [
    {
     "name": "stdout",
     "output_type": "stream",
     "text": [
      "10 9 8 7 6 5 4 3 2 1 "
     ]
    }
   ],
   "source": [
    "a = 10\n",
    "b = 1\n",
    "\n",
    "if a < b :\n",
    "    for broj in range (a, b + 1):\n",
    "        print(broj, end = ' ')\n",
    "else:\n",
    "    for broj in range (a, b - 1, -1):\n",
    "        print(broj, end = ' ')"
   ]
  },
  {
   "cell_type": "code",
   "execution_count": 56,
   "metadata": {},
   "outputs": [
    {
     "name": "stdout",
     "output_type": "stream",
     "text": [
      "36\n"
     ]
    }
   ],
   "source": [
    "# suma kubova 1 do N\n",
    "N = 3\n",
    "\n",
    "def sumNCubes(n):\n",
    "    return sum(i**3 for i in range(1,n+1))\n",
    "rez = sumNCubes(N)\n",
    "print(rez)"
   ]
  },
  {
   "cell_type": "code",
   "execution_count": 57,
   "metadata": {},
   "outputs": [
    {
     "name": "stdout",
     "output_type": "stream",
     "text": [
      "120\n"
     ]
    }
   ],
   "source": [
    "# faktorijela\n",
    "\n",
    "N = 5\n",
    "\n",
    "rez = 1\n",
    "\n",
    "for i in range(1, N+1):\n",
    "    rez *= i\n",
    "print(rez)"
   ]
  },
  {
   "cell_type": "code",
   "execution_count": 60,
   "metadata": {
    "scrolled": true
   },
   "outputs": [
    {
     "name": "stdout",
     "output_type": "stream",
     "text": [
      "1\n",
      "2\n",
      "3\n",
      "4\n",
      "5\n",
      "6\n",
      "7\n",
      "8\n",
      "9\n",
      "10\n",
      "55\n"
     ]
    }
   ],
   "source": [
    "# suma 10 brojeva iz inputa\n",
    "print(sum([int(input()) for i in range(0, 10)]))"
   ]
  },
  {
   "cell_type": "code",
   "execution_count": 61,
   "metadata": {},
   "outputs": [
    {
     "name": "stdout",
     "output_type": "stream",
     "text": [
      "2\n",
      "1\n",
      "0\n",
      "1\n"
     ]
    }
   ],
   "source": [
    "# broj nula u inputu\n",
    "N = int(input())\n",
    "\n",
    "print(sum([input() == \"0\" for i in range(0, N)]))"
   ]
  },
  {
   "cell_type": "code",
   "execution_count": 62,
   "metadata": {},
   "outputs": [
    {
     "name": "stdout",
     "output_type": "stream",
     "text": [
      "873\n"
     ]
    }
   ],
   "source": [
    "# suma faktorijela\n",
    "suma = 0\n",
    "produkt = 1\n",
    "\n",
    "n = 6\n",
    "\n",
    "for k in range (1, n + 1):\n",
    "    produkt = 1\n",
    "    for i in range (1, k + 1):\n",
    "        produkt *= i\n",
    "    suma += produkt\n",
    "print(suma)"
   ]
  },
  {
   "cell_type": "code",
   "execution_count": 63,
   "metadata": {},
   "outputs": [
    {
     "name": "stdout",
     "output_type": "stream",
     "text": [
      "873\n"
     ]
    }
   ],
   "source": [
    "# ili\n",
    "from math import factorial\n",
    "suma = 0\n",
    "m = 6\n",
    "for k in range (1, m + 1) :\n",
    "    suma += factorial(k)\n",
    "print (suma)"
   ]
  },
  {
   "cell_type": "code",
   "execution_count": 64,
   "metadata": {},
   "outputs": [
    {
     "name": "stdout",
     "output_type": "stream",
     "text": [
      "1\n",
      "12\n",
      "123\n"
     ]
    }
   ],
   "source": [
    "# stepenice\n",
    "n = 3\n",
    "\n",
    "for i in range(1, n+1):  \n",
    "    for j in range(1, i+1):\n",
    "        print(j, end='')\n",
    "    print()"
   ]
  },
  {
   "cell_type": "code",
   "execution_count": 1,
   "metadata": {},
   "outputs": [
    {
     "name": "stdout",
     "output_type": "stream",
     "text": [
      "3\n",
      "5\n",
      "2\n",
      "1\n",
      "['1', '2', '3', '5']\n",
      "4\n"
     ]
    }
   ],
   "source": [
    "# izgubljena karta\n",
    "N = 5\n",
    "\n",
    "a = []\n",
    "for i in range(1, N):\n",
    "    a.insert(N, input())\n",
    "a.sort()\n",
    "print(a)\n",
    "for k in range(1, N) :\n",
    "        if a[k-1] != str(k):\n",
    "            print(k)\n",
    "            break\n",
    "else:\n",
    "    print(N)"
   ]
  },
  {
   "cell_type": "code",
   "execution_count": 2,
   "metadata": {},
   "outputs": [
    {
     "name": "stdout",
     "output_type": "stream",
     "text": [
      ">_< >_< >_< >_< >_< \n"
     ]
    }
   ],
   "source": [
    "print('>_< ' * 5)"
   ]
  },
  {
   "cell_type": "code",
   "execution_count": 3,
   "metadata": {},
   "outputs": [
    {
     "name": "stdout",
     "output_type": "stream",
     "text": [
      "26\n"
     ]
    }
   ],
   "source": [
    "print(len('abcdefghijklmnopqrstuvwxyz'))"
   ]
  },
  {
   "cell_type": "code",
   "execution_count": 4,
   "metadata": {},
   "outputs": [
    {
     "name": "stdout",
     "output_type": "stream",
     "text": [
      "b\n",
      "g\n",
      "bc\n",
      "bcdef\n",
      "abc\n",
      "cdefg\n",
      "abcdef\n",
      "aceg\n",
      "bdf\n",
      "gfedcba\n"
     ]
    }
   ],
   "source": [
    "s = 'abcdefg'\n",
    "print(s[1])\n",
    "print(s[-1])\n",
    "print(s[1:3])\n",
    "print(s[1:-1])\n",
    "print(s[:3])\n",
    "print(s[2:])\n",
    "print(s[:-1])\n",
    "print(s[::2])\n",
    "print(s[1::2])\n",
    "print(s[::-1])"
   ]
  },
  {
   "cell_type": "code",
   "execution_count": 5,
   "metadata": {},
   "outputs": [
    {
     "name": "stdout",
     "output_type": "stream",
     "text": [
      "acegi\n",
      "0 a\n",
      "2 c\n",
      "4 e\n",
      "6 g\n",
      "8 i\n"
     ]
    }
   ],
   "source": [
    "s = 'abcdefghijklm'\n",
    "print(s[0:10:2])\n",
    "for i in range(0, 10, 2):\n",
    "    print(i, s[i])"
   ]
  },
  {
   "cell_type": "code",
   "execution_count": 6,
   "metadata": {},
   "outputs": [
    {
     "name": "stdout",
     "output_type": "stream",
     "text": [
      "1\n",
      "8\n"
     ]
    }
   ],
   "source": [
    "s = 'abracadabra'\n",
    "print(s.find('b'))\n",
    "# 1\n",
    "print(s.rfind('b'))\n",
    "# 8"
   ]
  },
  {
   "cell_type": "code",
   "execution_count": 7,
   "metadata": {},
   "outputs": [
    {
     "name": "stdout",
     "output_type": "stream",
     "text": [
      "11\n",
      "23\n"
     ]
    }
   ],
   "source": [
    "s = 'my name is bond, james bond, okay?'\n",
    "print(s.find('bond'))\n",
    "# 11\n",
    "print(s.find('bond', 12)) # od 12.indexa\n",
    "# 23"
   ]
  },
  {
   "cell_type": "code",
   "execution_count": 8,
   "metadata": {},
   "outputs": [
    {
     "name": "stdout",
     "output_type": "stream",
     "text": [
      "a pub is a pub, essentially\n",
      "a pub is a bar, essentially\n"
     ]
    }
   ],
   "source": [
    "# s.replace(old, new, count)\n",
    "print('a bar is a bar, essentially'.replace('bar', 'pub'))\n",
    "print('a bar is a bar, essentially'.replace('bar', 'pub', 1))"
   ]
  },
  {
   "cell_type": "code",
   "execution_count": 9,
   "metadata": {},
   "outputs": [
    {
     "name": "stdout",
     "output_type": "stream",
     "text": [
      "4\n",
      "5\n"
     ]
    }
   ],
   "source": [
    "print('Abracadabra'.count('a'))\n",
    "# 4\n",
    "print(('aaaaaaaaaa').count('aa'))\n",
    "# 5"
   ]
  },
  {
   "cell_type": "code",
   "execution_count": 14,
   "metadata": {},
   "outputs": [
    {
     "name": "stdout",
     "output_type": "stream",
     "text": [
      "6 11\n"
     ]
    }
   ],
   "source": [
    "# index prvog i zadnjeg pojavljivanja slova f\n",
    "s = 'hello frog f'\n",
    "\n",
    "if s.find('f') == s.rfind('f') and s.find('f') != -1:\n",
    "    print(s.find('f'))\n",
    "\n",
    "elif s.find('f') != s.rfind('f') :\n",
    "    print(s.find('f'), s.rfind('f'))"
   ]
  },
  {
   "cell_type": "code",
   "execution_count": 2,
   "metadata": {},
   "outputs": [
    {
     "name": "stdout",
     "output_type": "stream",
     "text": [
      "3\n"
     ]
    }
   ],
   "source": [
    "# index drugog slova f\n",
    "s = 'coffee'\n",
    "\n",
    "if s.find('f') == s.rfind('f') and s.find('f') != -1:\n",
    "    print(-1)\n",
    "\n",
    "elif s.find('f') != s.rfind('f') :\n",
    "    print(s.find('f', s.find('f')+1))\n",
    "    \n",
    "else:\n",
    "    print(-2)"
   ]
  },
  {
   "cell_type": "code",
   "execution_count": 5,
   "metadata": {},
   "outputs": [
    {
     "name": "stdout",
     "output_type": "stream",
     "text": [
      "In tobbit\n"
     ]
    }
   ],
   "source": [
    "# izbrisi fragment izmedju 1. i zadnjeg pojavljivanja slova h\n",
    "s = 'In the hole in the ground there lived a hobbit'\n",
    "\n",
    "start = s.find( 'h' )\n",
    "end = s.rfind( 'h' )\n",
    "if start != -1 and end != -1:\n",
    "    result = s[: start] + s[end+1 :]\n",
    "print(result)"
   ]
  },
  {
   "cell_type": "code",
   "execution_count": 6,
   "metadata": {},
   "outputs": [
    {
     "name": "stdout",
     "output_type": "stream",
     "text": [
      "In the Hole in tHe ground tHere lived a hobbit\n"
     ]
    }
   ],
   "source": [
    "# zamijeni svako pojavljivanje slova h sa H, osim 1. i zadnjeg\n",
    "s = 'In the hole in the ground there lived a hobbit'\n",
    "\n",
    "start = s.find( 'h' )\n",
    "end = s.rfind( 'h' )\n",
    "if start != -1 and end != -1:\n",
    "    result = s[: start+1] + s[start+1:end].replace('h', 'H') + s[end :]\n",
    "print(result)"
   ]
  },
  {
   "cell_type": "code",
   "execution_count": 7,
   "metadata": {},
   "outputs": [
    {
     "name": "stdout",
     "output_type": "stream",
     "text": [
      "yton\n"
     ]
    }
   ],
   "source": [
    "# obrisi svaki treci znak u stringu\n",
    "s = 'Python'\n",
    "\n",
    "newstring = ''.join(\"\" if i % 3 == 0  else char for i, char in enumerate(s, 0))\n",
    "\n",
    "print(newstring)"
   ]
  },
  {
   "cell_type": "code",
   "execution_count": 8,
   "metadata": {},
   "outputs": [
    {
     "name": "stdout",
     "output_type": "stream",
     "text": [
      "4\n"
     ]
    }
   ],
   "source": [
    "# broj zna\n",
    "n = 4563\n",
    "length = 0\n",
    "while n > 0:\n",
    "    n //= 10  # this is equivalent to n = n // 10\n",
    "    length += 1\n",
    "print(length)  # 4menaka"
   ]
  },
  {
   "cell_type": "code",
   "execution_count": 9,
   "metadata": {},
   "outputs": [
    {
     "name": "stdout",
     "output_type": "stream",
     "text": [
      "4\n"
     ]
    }
   ],
   "source": [
    "# ili\n",
    "n = 4532\n",
    "print(len(str(n)))"
   ]
  },
  {
   "cell_type": "code",
   "execution_count": 10,
   "metadata": {},
   "outputs": [
    {
     "name": "stdout",
     "output_type": "stream",
     "text": [
      "2 1\n"
     ]
    }
   ],
   "source": [
    "# swap\n",
    "a = 1\n",
    "b = 2\n",
    "tmp = a\n",
    "a = b\n",
    "b = tmp\n",
    "print(a, b)"
   ]
  },
  {
   "cell_type": "code",
   "execution_count": 11,
   "metadata": {},
   "outputs": [
    {
     "name": "stdout",
     "output_type": "stream",
     "text": [
      "2 1\n"
     ]
    }
   ],
   "source": [
    "# ili\n",
    "a = 1\n",
    "b = 2\n",
    "a, b = b, a\n",
    "print(a, b)"
   ]
  },
  {
   "cell_type": "code",
   "execution_count": 17,
   "metadata": {},
   "outputs": [
    {
     "name": "stdout",
     "output_type": "stream",
     "text": [
      "a = [1, 2, 3]\n",
      "b = [4, 5]\n",
      "c = [1, 2, 3, 4, 5]\n",
      "d = [4, 5, 4, 5, 4, 5]\n"
     ]
    }
   ],
   "source": [
    "# lista\n",
    "a = [1, 2, 3]\n",
    "print('a = ' + str(a))\n",
    "b = [4, 5]\n",
    "print('b = ' + str(b))\n",
    "c = a + b\n",
    "print('c = ' + str(c))\n",
    "d = b * 3\n",
    "print('d = ' + str(d))"
   ]
  },
  {
   "cell_type": "code",
   "execution_count": 22,
   "metadata": {},
   "outputs": [
    {
     "data": {
      "image/png": "[encoded data removed]",
      "text/plain": [
       "<matplotlib.figure.Figure at 0x7f1909870978>"
      ]
     },
     "metadata": {},
     "output_type": "display_data"
    }
   ],
   "source": [
    "x = [1,2,3,4,5,6,7,8,9]\n",
    "y = [4,1,2,5,3,9,7,8,6]\n",
    "\n",
    "import matplotlib.pyplot as plt\n",
    "\n",
    "plt.plot(x,y)\n",
    "plt.show()"
   ]
  },
  {
   "cell_type": "code",
   "execution_count": 32,
   "metadata": {},
   "outputs": [
    {
     "data": {
      "image/png": "[encoded data removed]",
      "text/plain": [
       "<matplotlib.figure.Figure at 0x7f1909497be0>"
      ]
     },
     "metadata": {},
     "output_type": "display_data"
    }
   ],
   "source": [
    "x = [1,2,3,4,5,6,7,8,9]\n",
    "y = [4,1,2,5,3,9,7,8,6]\n",
    "\n",
    "import matplotlib.pyplot as plt\n",
    "import numpy as np\n",
    "\n",
    "x = np.arange(-5.0, 5.0, 0.01)\n",
    "funkcija = np.power(x, 2)\n",
    "\n",
    "plt.plot(x, funkcija)\n",
    "plt.show()"
   ]
  },
  {
   "cell_type": "code",
   "execution_count": 43,
   "metadata": {
    "scrolled": false
   },
   "outputs": [
    {
     "data": {
      "image/png": "[encoded data removed]",
      "text/latex": [
       "$$\\sum_{x=4}^{10} \\left(\\frac{1}{x^{2}} + \\frac{1}{x^{3}}\\right) = \\frac{3587099347}{16003008000}$$"
      ],
      "text/plain": [
       "  10                         \n",
       " ____                        \n",
       " ╲                           \n",
       "  ╲   ⎛1    1 ⎞              \n",
       "   ╲  ⎜── + ──⎟    3587099347\n",
       "   ╱  ⎜ 2    3⎟ = ───────────\n",
       "  ╱   ⎝x    x ⎠   16003008000\n",
       " ╱                           \n",
       " ‾‾‾‾                        \n",
       "x = 4                        "
      ]
     },
     "execution_count": 43,
     "metadata": {},
     "output_type": "execute_result"
    }
   ],
   "source": [
    "import sympy as sp\n",
    "sp.init_printing()\n",
    "\n",
    "x = sp.symbols('x')\n",
    "\n",
    "konacna_suma = sp.Sum(x**-2 + x**-3, (x, 4, 10))\n",
    "sp.Eq(konacna_suma, konacna_suma.doit())"
   ]
  },
  {
   "cell_type": "code",
   "execution_count": 46,
   "metadata": {},
   "outputs": [],
   "source": [
    "izraz = sp.Integral(konacna_suma, x)"
   ]
  },
  {
   "cell_type": "code",
   "execution_count": 47,
   "metadata": {},
   "outputs": [
    {
     "data": {
      "image/png": "[encoded data removed]",
      "text/latex": [
       "$$\\int \\sum_{x=4}^{10} \\left(\\frac{1}{x^{2}} + \\frac{1}{x^{3}}\\right)\\, dx$$"
      ],
      "text/plain": [
       "⌠                   \n",
       "⎮   10              \n",
       "⎮  ____             \n",
       "⎮  ╲                \n",
       "⎮   ╲   ⎛1    1 ⎞   \n",
       "⎮    ╲  ⎜── + ──⎟   \n",
       "⎮    ╱  ⎜ 2    3⎟ dx\n",
       "⎮   ╱   ⎝x    x ⎠   \n",
       "⎮  ╱                \n",
       "⎮  ‾‾‾‾             \n",
       "⎮ x = 4             \n",
       "⌡                   "
      ]
     },
     "execution_count": 47,
     "metadata": {},
     "output_type": "execute_result"
    }
   ],
   "source": [
    "izraz"
   ]
  },
  {
   "cell_type": "code",
   "execution_count": 48,
   "metadata": {},
   "outputs": [
    {
     "data": {
      "image/png": "[encoded data removed]",
      "text/latex": [
       "$$\\frac{3587099347 x}{16003008000}$$"
      ],
      "text/plain": [
       "3587099347⋅x\n",
       "────────────\n",
       "16003008000 "
      ]
     },
     "execution_count": 48,
     "metadata": {},
     "output_type": "execute_result"
    }
   ],
   "source": [
    "izraz.doit()"
   ]
  },
  {
   "cell_type": "code",
   "execution_count": 56,
   "metadata": {},
   "outputs": [],
   "source": [
    "from datetime import datetime\n",
    "import pandas as pd\n",
    "\n",
    "datumiNeiter = pd.date_range(datetime(2000, 1, 1), datetime(2018, 1, 1))\n",
    "\n",
    "listaDatuma = [x for x in datumiNeiter]"
   ]
  },
  {
   "cell_type": "code",
   "execution_count": 58,
   "metadata": {},
   "outputs": [
    {
     "data": {
      "text/plain": [
       "[Timestamp('2000-01-01 00:00:00', freq='D'),\n",
       " Timestamp('2000-01-02 00:00:00', freq='D'),\n",
       " Timestamp('2000-01-03 00:00:00', freq='D'),\n",
       " Timestamp('2000-01-04 00:00:00', freq='D'),\n",
       " Timestamp('2000-01-05 00:00:00', freq='D'),\n",
       " Timestamp('2000-01-06 00:00:00', freq='D'),\n",
       " Timestamp('2000-01-07 00:00:00', freq='D'),\n",
       " Timestamp('2000-01-08 00:00:00', freq='D'),\n",
       " Timestamp('2000-01-09 00:00:00', freq='D'),\n",
       " Timestamp('2000-01-10 00:00:00', freq='D'),\n",
       " Timestamp('2000-01-11 00:00:00', freq='D'),\n",
       " Timestamp('2000-01-12 00:00:00', freq='D'),\n",
       " Timestamp('2000-01-13 00:00:00', freq='D'),\n",
       " Timestamp('2000-01-14 00:00:00', freq='D'),\n",
       " Timestamp('2000-01-15 00:00:00', freq='D'),\n",
       " Timestamp('2000-01-16 00:00:00', freq='D'),\n",
       " Timestamp('2000-01-17 00:00:00', freq='D'),\n",
       " Timestamp('2000-01-18 00:00:00', freq='D'),\n",
       " Timestamp('2000-01-19 00:00:00', freq='D'),\n",
       " Timestamp('2000-01-20 00:00:00', freq='D'),\n",
       " Timestamp('2000-01-21 00:00:00', freq='D'),\n",
       " Timestamp('2000-01-22 00:00:00', freq='D'),\n",
       " Timestamp('2000-01-23 00:00:00', freq='D'),\n",
       " Timestamp('2000-01-24 00:00:00', freq='D'),\n",
       " Timestamp('2000-01-25 00:00:00', freq='D'),\n",
       " Timestamp('2000-01-26 00:00:00', freq='D'),\n",
       " Timestamp('2000-01-27 00:00:00', freq='D'),\n",
       " Timestamp('2000-01-28 00:00:00', freq='D'),\n",
       " Timestamp('2000-01-29 00:00:00', freq='D'),\n",
       " Timestamp('2000-01-30 00:00:00', freq='D'),\n",
       " Timestamp('2000-01-31 00:00:00', freq='D'),\n",
       " Timestamp('2000-02-01 00:00:00', freq='D'),\n",
       " Timestamp('2000-02-02 00:00:00', freq='D'),\n",
       " Timestamp('2000-02-03 00:00:00', freq='D'),\n",
       " Timestamp('2000-02-04 00:00:00', freq='D'),\n",
       " Timestamp('2000-02-05 00:00:00', freq='D'),\n",
       " Timestamp('2000-02-06 00:00:00', freq='D'),\n",
       " Timestamp('2000-02-07 00:00:00', freq='D'),\n",
       " Timestamp('2000-02-08 00:00:00', freq='D'),\n",
       " Timestamp('2000-02-09 00:00:00', freq='D'),\n",
       " Timestamp('2000-02-10 00:00:00', freq='D'),\n",
       " Timestamp('2000-02-11 00:00:00', freq='D'),\n",
       " Timestamp('2000-02-12 00:00:00', freq='D'),\n",
       " Timestamp('2000-02-13 00:00:00', freq='D'),\n",
       " Timestamp('2000-02-14 00:00:00', freq='D'),\n",
       " Timestamp('2000-02-15 00:00:00', freq='D'),\n",
       " Timestamp('2000-02-16 00:00:00', freq='D'),\n",
       " Timestamp('2000-02-17 00:00:00', freq='D'),\n",
       " Timestamp('2000-02-18 00:00:00', freq='D'),\n",
       " Timestamp('2000-02-19 00:00:00', freq='D'),\n",
       " Timestamp('2000-02-20 00:00:00', freq='D'),\n",
       " Timestamp('2000-02-21 00:00:00', freq='D'),\n",
       " Timestamp('2000-02-22 00:00:00', freq='D'),\n",
       " Timestamp('2000-02-23 00:00:00', freq='D'),\n",
       " Timestamp('2000-02-24 00:00:00', freq='D'),\n",
       " Timestamp('2000-02-25 00:00:00', freq='D'),\n",
       " Timestamp('2000-02-26 00:00:00', freq='D'),\n",
       " Timestamp('2000-02-27 00:00:00', freq='D'),\n",
       " Timestamp('2000-02-28 00:00:00', freq='D'),\n",
       " Timestamp('2000-02-29 00:00:00', freq='D'),\n",
       " Timestamp('2000-03-01 00:00:00', freq='D'),\n",
       " Timestamp('2000-03-02 00:00:00', freq='D'),\n",
       " Timestamp('2000-03-03 00:00:00', freq='D'),\n",
       " Timestamp('2000-03-04 00:00:00', freq='D'),\n",
       " Timestamp('2000-03-05 00:00:00', freq='D'),\n",
       " Timestamp('2000-03-06 00:00:00', freq='D'),\n",
       " Timestamp('2000-03-07 00:00:00', freq='D'),\n",
       " Timestamp('2000-03-08 00:00:00', freq='D'),\n",
       " Timestamp('2000-03-09 00:00:00', freq='D'),\n",
       " Timestamp('2000-03-10 00:00:00', freq='D'),\n",
       " Timestamp('2000-03-11 00:00:00', freq='D'),\n",
       " Timestamp('2000-03-12 00:00:00', freq='D'),\n",
       " Timestamp('2000-03-13 00:00:00', freq='D'),\n",
       " Timestamp('2000-03-14 00:00:00', freq='D'),\n",
       " Timestamp('2000-03-15 00:00:00', freq='D'),\n",
       " Timestamp('2000-03-16 00:00:00', freq='D'),\n",
       " Timestamp('2000-03-17 00:00:00', freq='D'),\n",
       " Timestamp('2000-03-18 00:00:00', freq='D'),\n",
       " Timestamp('2000-03-19 00:00:00', freq='D'),\n",
       " Timestamp('2000-03-20 00:00:00', freq='D'),\n",
       " Timestamp('2000-03-21 00:00:00', freq='D'),\n",
       " Timestamp('2000-03-22 00:00:00', freq='D'),\n",
       " Timestamp('2000-03-23 00:00:00', freq='D'),\n",
       " Timestamp('2000-03-24 00:00:00', freq='D'),\n",
       " Timestamp('2000-03-25 00:00:00', freq='D'),\n",
       " Timestamp('2000-03-26 00:00:00', freq='D'),\n",
       " Timestamp('2000-03-27 00:00:00', freq='D'),\n",
       " Timestamp('2000-03-28 00:00:00', freq='D'),\n",
       " Timestamp('2000-03-29 00:00:00', freq='D'),\n",
       " Timestamp('2000-03-30 00:00:00', freq='D'),\n",
       " Timestamp('2000-03-31 00:00:00', freq='D'),\n",
       " Timestamp('2000-04-01 00:00:00', freq='D'),\n",
       " Timestamp('2000-04-02 00:00:00', freq='D'),\n",
       " Timestamp('2000-04-03 00:00:00', freq='D'),\n",
       " Timestamp('2000-04-04 00:00:00', freq='D'),\n",
       " Timestamp('2000-04-05 00:00:00', freq='D'),\n",
       " Timestamp('2000-04-06 00:00:00', freq='D'),\n",
       " Timestamp('2000-04-07 00:00:00', freq='D'),\n",
       " Timestamp('2000-04-08 00:00:00', freq='D'),\n",
       " Timestamp('2000-04-09 00:00:00', freq='D'),\n",
       " Timestamp('2000-04-10 00:00:00', freq='D'),\n",
       " Timestamp('2000-04-11 00:00:00', freq='D'),\n",
       " Timestamp('2000-04-12 00:00:00', freq='D'),\n",
       " Timestamp('2000-04-13 00:00:00', freq='D'),\n",
       " Timestamp('2000-04-14 00:00:00', freq='D'),\n",
       " Timestamp('2000-04-15 00:00:00', freq='D'),\n",
       " Timestamp('2000-04-16 00:00:00', freq='D'),\n",
       " Timestamp('2000-04-17 00:00:00', freq='D'),\n",
       " Timestamp('2000-04-18 00:00:00', freq='D'),\n",
       " Timestamp('2000-04-19 00:00:00', freq='D'),\n",
       " Timestamp('2000-04-20 00:00:00', freq='D'),\n",
       " Timestamp('2000-04-21 00:00:00', freq='D'),\n",
       " Timestamp('2000-04-22 00:00:00', freq='D'),\n",
       " Timestamp('2000-04-23 00:00:00', freq='D'),\n",
       " Timestamp('2000-04-24 00:00:00', freq='D'),\n",
       " Timestamp('2000-04-25 00:00:00', freq='D'),\n",
       " Timestamp('2000-04-26 00:00:00', freq='D'),\n",
       " Timestamp('2000-04-27 00:00:00', freq='D'),\n",
       " Timestamp('2000-04-28 00:00:00', freq='D'),\n",
       " Timestamp('2000-04-29 00:00:00', freq='D'),\n",
       " Timestamp('2000-04-30 00:00:00', freq='D'),\n",
       " Timestamp('2000-05-01 00:00:00', freq='D'),\n",
       " Timestamp('2000-05-02 00:00:00', freq='D'),\n",
       " Timestamp('2000-05-03 00:00:00', freq='D'),\n",
       " Timestamp('2000-05-04 00:00:00', freq='D'),\n",
       " Timestamp('2000-05-05 00:00:00', freq='D'),\n",
       " Timestamp('2000-05-06 00:00:00', freq='D'),\n",
       " Timestamp('2000-05-07 00:00:00', freq='D'),\n",
       " Timestamp('2000-05-08 00:00:00', freq='D'),\n",
       " Timestamp('2000-05-09 00:00:00', freq='D'),\n",
       " Timestamp('2000-05-10 00:00:00', freq='D'),\n",
       " Timestamp('2000-05-11 00:00:00', freq='D'),\n",
       " Timestamp('2000-05-12 00:00:00', freq='D'),\n",
       " Timestamp('2000-05-13 00:00:00', freq='D'),\n",
       " Timestamp('2000-05-14 00:00:00', freq='D'),\n",
       " Timestamp('2000-05-15 00:00:00', freq='D'),\n",
       " Timestamp('2000-05-16 00:00:00', freq='D'),\n",
       " Timestamp('2000-05-17 00:00:00', freq='D'),\n",
       " Timestamp('2000-05-18 00:00:00', freq='D'),\n",
       " Timestamp('2000-05-19 00:00:00', freq='D'),\n",
       " Timestamp('2000-05-20 00:00:00', freq='D'),\n",
       " Timestamp('2000-05-21 00:00:00', freq='D'),\n",
       " Timestamp('2000-05-22 00:00:00', freq='D'),\n",
       " Timestamp('2000-05-23 00:00:00', freq='D'),\n",
       " Timestamp('2000-05-24 00:00:00', freq='D'),\n",
       " Timestamp('2000-05-25 00:00:00', freq='D'),\n",
       " Timestamp('2000-05-26 00:00:00', freq='D'),\n",
       " Timestamp('2000-05-27 00:00:00', freq='D'),\n",
       " Timestamp('2000-05-28 00:00:00', freq='D'),\n",
       " Timestamp('2000-05-29 00:00:00', freq='D'),\n",
       " Timestamp('2000-05-30 00:00:00', freq='D'),\n",
       " Timestamp('2000-05-31 00:00:00', freq='D'),\n",
       " Timestamp('2000-06-01 00:00:00', freq='D'),\n",
       " Timestamp('2000-06-02 00:00:00', freq='D'),\n",
       " Timestamp('2000-06-03 00:00:00', freq='D'),\n",
       " Timestamp('2000-06-04 00:00:00', freq='D'),\n",
       " Timestamp('2000-06-05 00:00:00', freq='D'),\n",
       " Timestamp('2000-06-06 00:00:00', freq='D'),\n",
       " Timestamp('2000-06-07 00:00:00', freq='D'),\n",
       " Timestamp('2000-06-08 00:00:00', freq='D'),\n",
       " Timestamp('2000-06-09 00:00:00', freq='D'),\n",
       " Timestamp('2000-06-10 00:00:00', freq='D'),\n",
       " Timestamp('2000-06-11 00:00:00', freq='D'),\n",
       " Timestamp('2000-06-12 00:00:00', freq='D'),\n",
       " Timestamp('2000-06-13 00:00:00', freq='D'),\n",
       " Timestamp('2000-06-14 00:00:00', freq='D'),\n",
       " Timestamp('2000-06-15 00:00:00', freq='D'),\n",
       " Timestamp('2000-06-16 00:00:00', freq='D'),\n",
       " Timestamp('2000-06-17 00:00:00', freq='D'),\n",
       " Timestamp('2000-06-18 00:00:00', freq='D'),\n",
       " Timestamp('2000-06-19 00:00:00', freq='D'),\n",
       " Timestamp('2000-06-20 00:00:00', freq='D'),\n",
       " Timestamp('2000-06-21 00:00:00', freq='D'),\n",
       " Timestamp('2000-06-22 00:00:00', freq='D'),\n",
       " Timestamp('2000-06-23 00:00:00', freq='D'),\n",
       " Timestamp('2000-06-24 00:00:00', freq='D'),\n",
       " Timestamp('2000-06-25 00:00:00', freq='D'),\n",
       " Timestamp('2000-06-26 00:00:00', freq='D'),\n",
       " Timestamp('2000-06-27 00:00:00', freq='D'),\n",
       " Timestamp('2000-06-28 00:00:00', freq='D'),\n",
       " Timestamp('2000-06-29 00:00:00', freq='D'),\n",
       " Timestamp('2000-06-30 00:00:00', freq='D'),\n",
       " Timestamp('2000-07-01 00:00:00', freq='D'),\n",
       " Timestamp('2000-07-02 00:00:00', freq='D'),\n",
       " Timestamp('2000-07-03 00:00:00', freq='D'),\n",
       " Timestamp('2000-07-04 00:00:00', freq='D'),\n",
       " Timestamp('2000-07-05 00:00:00', freq='D'),\n",
       " Timestamp('2000-07-06 00:00:00', freq='D'),\n",
       " Timestamp('2000-07-07 00:00:00', freq='D'),\n",
       " Timestamp('2000-07-08 00:00:00', freq='D'),\n",
       " Timestamp('2000-07-09 00:00:00', freq='D'),\n",
       " Timestamp('2000-07-10 00:00:00', freq='D'),\n",
       " Timestamp('2000-07-11 00:00:00', freq='D'),\n",
       " Timestamp('2000-07-12 00:00:00', freq='D'),\n",
       " Timestamp('2000-07-13 00:00:00', freq='D'),\n",
       " Timestamp('2000-07-14 00:00:00', freq='D'),\n",
       " Timestamp('2000-07-15 00:00:00', freq='D'),\n",
       " Timestamp('2000-07-16 00:00:00', freq='D'),\n",
       " Timestamp('2000-07-17 00:00:00', freq='D'),\n",
       " Timestamp('2000-07-18 00:00:00', freq='D'),\n",
       " Timestamp('2000-07-19 00:00:00', freq='D'),\n",
       " Timestamp('2000-07-20 00:00:00', freq='D'),\n",
       " Timestamp('2000-07-21 00:00:00', freq='D'),\n",
       " Timestamp('2000-07-22 00:00:00', freq='D'),\n",
       " Timestamp('2000-07-23 00:00:00', freq='D'),\n",
       " Timestamp('2000-07-24 00:00:00', freq='D'),\n",
       " Timestamp('2000-07-25 00:00:00', freq='D'),\n",
       " Timestamp('2000-07-26 00:00:00', freq='D'),\n",
       " Timestamp('2000-07-27 00:00:00', freq='D'),\n",
       " Timestamp('2000-07-28 00:00:00', freq='D'),\n",
       " Timestamp('2000-07-29 00:00:00', freq='D'),\n",
       " Timestamp('2000-07-30 00:00:00', freq='D'),\n",
       " Timestamp('2000-07-31 00:00:00', freq='D'),\n",
       " Timestamp('2000-08-01 00:00:00', freq='D'),\n",
       " Timestamp('2000-08-02 00:00:00', freq='D'),\n",
       " Timestamp('2000-08-03 00:00:00', freq='D'),\n",
       " Timestamp('2000-08-04 00:00:00', freq='D'),\n",
       " Timestamp('2000-08-05 00:00:00', freq='D'),\n",
       " Timestamp('2000-08-06 00:00:00', freq='D'),\n",
       " Timestamp('2000-08-07 00:00:00', freq='D'),\n",
       " Timestamp('2000-08-08 00:00:00', freq='D'),\n",
       " Timestamp('2000-08-09 00:00:00', freq='D'),\n",
       " Timestamp('2000-08-10 00:00:00', freq='D'),\n",
       " Timestamp('2000-08-11 00:00:00', freq='D'),\n",
       " Timestamp('2000-08-12 00:00:00', freq='D'),\n",
       " Timestamp('2000-08-13 00:00:00', freq='D'),\n",
       " Timestamp('2000-08-14 00:00:00', freq='D'),\n",
       " Timestamp('2000-08-15 00:00:00', freq='D'),\n",
       " Timestamp('2000-08-16 00:00:00', freq='D'),\n",
       " Timestamp('2000-08-17 00:00:00', freq='D'),\n",
       " Timestamp('2000-08-18 00:00:00', freq='D'),\n",
       " Timestamp('2000-08-19 00:00:00', freq='D'),\n",
       " Timestamp('2000-08-20 00:00:00', freq='D'),\n",
       " Timestamp('2000-08-21 00:00:00', freq='D'),\n",
       " Timestamp('2000-08-22 00:00:00', freq='D'),\n",
       " Timestamp('2000-08-23 00:00:00', freq='D'),\n",
       " Timestamp('2000-08-24 00:00:00', freq='D'),\n",
       " Timestamp('2000-08-25 00:00:00', freq='D'),\n",
       " Timestamp('2000-08-26 00:00:00', freq='D'),\n",
       " Timestamp('2000-08-27 00:00:00', freq='D'),\n",
       " Timestamp('2000-08-28 00:00:00', freq='D'),\n",
       " Timestamp('2000-08-29 00:00:00', freq='D'),\n",
       " Timestamp('2000-08-30 00:00:00', freq='D'),\n",
       " Timestamp('2000-08-31 00:00:00', freq='D'),\n",
       " Timestamp('2000-09-01 00:00:00', freq='D'),\n",
       " Timestamp('2000-09-02 00:00:00', freq='D'),\n",
       " Timestamp('2000-09-03 00:00:00', freq='D'),\n",
       " Timestamp('2000-09-04 00:00:00', freq='D'),\n",
       " Timestamp('2000-09-05 00:00:00', freq='D'),\n",
       " Timestamp('2000-09-06 00:00:00', freq='D'),\n",
       " Timestamp('2000-09-07 00:00:00', freq='D'),\n",
       " Timestamp('2000-09-08 00:00:00', freq='D'),\n",
       " Timestamp('2000-09-09 00:00:00', freq='D'),\n",
       " Timestamp('2000-09-10 00:00:00', freq='D'),\n",
       " Timestamp('2000-09-11 00:00:00', freq='D'),\n",
       " Timestamp('2000-09-12 00:00:00', freq='D'),\n",
       " Timestamp('2000-09-13 00:00:00', freq='D'),\n",
       " Timestamp('2000-09-14 00:00:00', freq='D'),\n",
       " Timestamp('2000-09-15 00:00:00', freq='D'),\n",
       " Timestamp('2000-09-16 00:00:00', freq='D'),\n",
       " Timestamp('2000-09-17 00:00:00', freq='D'),\n",
       " Timestamp('2000-09-18 00:00:00', freq='D'),\n",
       " Timestamp('2000-09-19 00:00:00', freq='D'),\n",
       " Timestamp('2000-09-20 00:00:00', freq='D'),\n",
       " Timestamp('2000-09-21 00:00:00', freq='D'),\n",
       " Timestamp('2000-09-22 00:00:00', freq='D'),\n",
       " Timestamp('2000-09-23 00:00:00', freq='D'),\n",
       " Timestamp('2000-09-24 00:00:00', freq='D'),\n",
       " Timestamp('2000-09-25 00:00:00', freq='D'),\n",
       " Timestamp('2000-09-26 00:00:00', freq='D'),\n",
       " Timestamp('2000-09-27 00:00:00', freq='D'),\n",
       " Timestamp('2000-09-28 00:00:00', freq='D'),\n",
       " Timestamp('2000-09-29 00:00:00', freq='D'),\n",
       " Timestamp('2000-09-30 00:00:00', freq='D'),\n",
       " Timestamp('2000-10-01 00:00:00', freq='D'),\n",
       " Timestamp('2000-10-02 00:00:00', freq='D'),\n",
       " Timestamp('2000-10-03 00:00:00', freq='D'),\n",
       " Timestamp('2000-10-04 00:00:00', freq='D'),\n",
       " Timestamp('2000-10-05 00:00:00', freq='D'),\n",
       " Timestamp('2000-10-06 00:00:00', freq='D'),\n",
       " Timestamp('2000-10-07 00:00:00', freq='D'),\n",
       " Timestamp('2000-10-08 00:00:00', freq='D'),\n",
       " Timestamp('2000-10-09 00:00:00', freq='D'),\n",
       " Timestamp('2000-10-10 00:00:00', freq='D'),\n",
       " Timestamp('2000-10-11 00:00:00', freq='D'),\n",
       " Timestamp('2000-10-12 00:00:00', freq='D'),\n",
       " Timestamp('2000-10-13 00:00:00', freq='D'),\n",
       " Timestamp('2000-10-14 00:00:00', freq='D'),\n",
       " Timestamp('2000-10-15 00:00:00', freq='D'),\n",
       " Timestamp('2000-10-16 00:00:00', freq='D'),\n",
       " Timestamp('2000-10-17 00:00:00', freq='D'),\n",
       " Timestamp('2000-10-18 00:00:00', freq='D'),\n",
       " Timestamp('2000-10-19 00:00:00', freq='D'),\n",
       " Timestamp('2000-10-20 00:00:00', freq='D'),\n",
       " Timestamp('2000-10-21 00:00:00', freq='D'),\n",
       " Timestamp('2000-10-22 00:00:00', freq='D'),\n",
       " Timestamp('2000-10-23 00:00:00', freq='D'),\n",
       " Timestamp('2000-10-24 00:00:00', freq='D'),\n",
       " Timestamp('2000-10-25 00:00:00', freq='D'),\n",
       " Timestamp('2000-10-26 00:00:00', freq='D'),\n",
       " Timestamp('2000-10-27 00:00:00', freq='D'),\n",
       " Timestamp('2000-10-28 00:00:00', freq='D'),\n",
       " Timestamp('2000-10-29 00:00:00', freq='D'),\n",
       " Timestamp('2000-10-30 00:00:00', freq='D'),\n",
       " Timestamp('2000-10-31 00:00:00', freq='D'),\n",
       " Timestamp('2000-11-01 00:00:00', freq='D'),\n",
       " Timestamp('2000-11-02 00:00:00', freq='D'),\n",
       " Timestamp('2000-11-03 00:00:00', freq='D'),\n",
       " Timestamp('2000-11-04 00:00:00', freq='D'),\n",
       " Timestamp('2000-11-05 00:00:00', freq='D'),\n",
       " Timestamp('2000-11-06 00:00:00', freq='D'),\n",
       " Timestamp('2000-11-07 00:00:00', freq='D'),\n",
       " Timestamp('2000-11-08 00:00:00', freq='D'),\n",
       " Timestamp('2000-11-09 00:00:00', freq='D'),\n",
       " Timestamp('2000-11-10 00:00:00', freq='D'),\n",
       " Timestamp('2000-11-11 00:00:00', freq='D'),\n",
       " Timestamp('2000-11-12 00:00:00', freq='D'),\n",
       " Timestamp('2000-11-13 00:00:00', freq='D'),\n",
       " Timestamp('2000-11-14 00:00:00', freq='D'),\n",
       " Timestamp('2000-11-15 00:00:00', freq='D'),\n",
       " Timestamp('2000-11-16 00:00:00', freq='D'),\n",
       " Timestamp('2000-11-17 00:00:00', freq='D'),\n",
       " Timestamp('2000-11-18 00:00:00', freq='D'),\n",
       " Timestamp('2000-11-19 00:00:00', freq='D'),\n",
       " Timestamp('2000-11-20 00:00:00', freq='D'),\n",
       " Timestamp('2000-11-21 00:00:00', freq='D'),\n",
       " Timestamp('2000-11-22 00:00:00', freq='D'),\n",
       " Timestamp('2000-11-23 00:00:00', freq='D'),\n",
       " Timestamp('2000-11-24 00:00:00', freq='D'),\n",
       " Timestamp('2000-11-25 00:00:00', freq='D'),\n",
       " Timestamp('2000-11-26 00:00:00', freq='D'),\n",
       " Timestamp('2000-11-27 00:00:00', freq='D'),\n",
       " Timestamp('2000-11-28 00:00:00', freq='D'),\n",
       " Timestamp('2000-11-29 00:00:00', freq='D'),\n",
       " Timestamp('2000-11-30 00:00:00', freq='D'),\n",
       " Timestamp('2000-12-01 00:00:00', freq='D'),\n",
       " Timestamp('2000-12-02 00:00:00', freq='D'),\n",
       " Timestamp('2000-12-03 00:00:00', freq='D'),\n",
       " Timestamp('2000-12-04 00:00:00', freq='D'),\n",
       " Timestamp('2000-12-05 00:00:00', freq='D'),\n",
       " Timestamp('2000-12-06 00:00:00', freq='D'),\n",
       " Timestamp('2000-12-07 00:00:00', freq='D'),\n",
       " Timestamp('2000-12-08 00:00:00', freq='D'),\n",
       " Timestamp('2000-12-09 00:00:00', freq='D'),\n",
       " Timestamp('2000-12-10 00:00:00', freq='D'),\n",
       " Timestamp('2000-12-11 00:00:00', freq='D'),\n",
       " Timestamp('2000-12-12 00:00:00', freq='D'),\n",
       " Timestamp('2000-12-13 00:00:00', freq='D'),\n",
       " Timestamp('2000-12-14 00:00:00', freq='D'),\n",
       " Timestamp('2000-12-15 00:00:00', freq='D'),\n",
       " Timestamp('2000-12-16 00:00:00', freq='D'),\n",
       " Timestamp('2000-12-17 00:00:00', freq='D'),\n",
       " Timestamp('2000-12-18 00:00:00', freq='D'),\n",
       " Timestamp('2000-12-19 00:00:00', freq='D'),\n",
       " Timestamp('2000-12-20 00:00:00', freq='D'),\n",
       " Timestamp('2000-12-21 00:00:00', freq='D'),\n",
       " Timestamp('2000-12-22 00:00:00', freq='D'),\n",
       " Timestamp('2000-12-23 00:00:00', freq='D'),\n",
       " Timestamp('2000-12-24 00:00:00', freq='D'),\n",
       " Timestamp('2000-12-25 00:00:00', freq='D'),\n",
       " Timestamp('2000-12-26 00:00:00', freq='D'),\n",
       " Timestamp('2000-12-27 00:00:00', freq='D'),\n",
       " Timestamp('2000-12-28 00:00:00', freq='D'),\n",
       " Timestamp('2000-12-29 00:00:00', freq='D'),\n",
       " Timestamp('2000-12-30 00:00:00', freq='D'),\n",
       " Timestamp('2000-12-31 00:00:00', freq='D'),\n",
       " Timestamp('2001-01-01 00:00:00', freq='D'),\n",
       " Timestamp('2001-01-02 00:00:00', freq='D'),\n",
       " Timestamp('2001-01-03 00:00:00', freq='D'),\n",
       " Timestamp('2001-01-04 00:00:00', freq='D'),\n",
       " Timestamp('2001-01-05 00:00:00', freq='D'),\n",
       " Timestamp('2001-01-06 00:00:00', freq='D'),\n",
       " Timestamp('2001-01-07 00:00:00', freq='D'),\n",
       " Timestamp('2001-01-08 00:00:00', freq='D'),\n",
       " Timestamp('2001-01-09 00:00:00', freq='D'),\n",
       " Timestamp('2001-01-10 00:00:00', freq='D'),\n",
       " Timestamp('2001-01-11 00:00:00', freq='D'),\n",
       " Timestamp('2001-01-12 00:00:00', freq='D'),\n",
       " Timestamp('2001-01-13 00:00:00', freq='D'),\n",
       " Timestamp('2001-01-14 00:00:00', freq='D'),\n",
       " Timestamp('2001-01-15 00:00:00', freq='D'),\n",
       " Timestamp('2001-01-16 00:00:00', freq='D'),\n",
       " Timestamp('2001-01-17 00:00:00', freq='D'),\n",
       " Timestamp('2001-01-18 00:00:00', freq='D'),\n",
       " Timestamp('2001-01-19 00:00:00', freq='D'),\n",
       " Timestamp('2001-01-20 00:00:00', freq='D'),\n",
       " Timestamp('2001-01-21 00:00:00', freq='D'),\n",
       " Timestamp('2001-01-22 00:00:00', freq='D'),\n",
       " Timestamp('2001-01-23 00:00:00', freq='D'),\n",
       " Timestamp('2001-01-24 00:00:00', freq='D'),\n",
       " Timestamp('2001-01-25 00:00:00', freq='D'),\n",
       " Timestamp('2001-01-26 00:00:00', freq='D'),\n",
       " Timestamp('2001-01-27 00:00:00', freq='D'),\n",
       " Timestamp('2001-01-28 00:00:00', freq='D'),\n",
       " Timestamp('2001-01-29 00:00:00', freq='D'),\n",
       " Timestamp('2001-01-30 00:00:00', freq='D'),\n",
       " Timestamp('2001-01-31 00:00:00', freq='D'),\n",
       " Timestamp('2001-02-01 00:00:00', freq='D'),\n",
       " Timestamp('2001-02-02 00:00:00', freq='D'),\n",
       " Timestamp('2001-02-03 00:00:00', freq='D'),\n",
       " Timestamp('2001-02-04 00:00:00', freq='D'),\n",
       " Timestamp('2001-02-05 00:00:00', freq='D'),\n",
       " Timestamp('2001-02-06 00:00:00', freq='D'),\n",
       " Timestamp('2001-02-07 00:00:00', freq='D'),\n",
       " Timestamp('2001-02-08 00:00:00', freq='D'),\n",
       " Timestamp('2001-02-09 00:00:00', freq='D'),\n",
       " Timestamp('2001-02-10 00:00:00', freq='D'),\n",
       " Timestamp('2001-02-11 00:00:00', freq='D'),\n",
       " Timestamp('2001-02-12 00:00:00', freq='D'),\n",
       " Timestamp('2001-02-13 00:00:00', freq='D'),\n",
       " Timestamp('2001-02-14 00:00:00', freq='D'),\n",
       " Timestamp('2001-02-15 00:00:00', freq='D'),\n",
       " Timestamp('2001-02-16 00:00:00', freq='D'),\n",
       " Timestamp('2001-02-17 00:00:00', freq='D'),\n",
       " Timestamp('2001-02-18 00:00:00', freq='D'),\n",
       " Timestamp('2001-02-19 00:00:00', freq='D'),\n",
       " Timestamp('2001-02-20 00:00:00', freq='D'),\n",
       " Timestamp('2001-02-21 00:00:00', freq='D'),\n",
       " Timestamp('2001-02-22 00:00:00', freq='D'),\n",
       " Timestamp('2001-02-23 00:00:00', freq='D'),\n",
       " Timestamp('2001-02-24 00:00:00', freq='D'),\n",
       " Timestamp('2001-02-25 00:00:00', freq='D'),\n",
       " Timestamp('2001-02-26 00:00:00', freq='D'),\n",
       " Timestamp('2001-02-27 00:00:00', freq='D'),\n",
       " Timestamp('2001-02-28 00:00:00', freq='D'),\n",
       " Timestamp('2001-03-01 00:00:00', freq='D'),\n",
       " Timestamp('2001-03-02 00:00:00', freq='D'),\n",
       " Timestamp('2001-03-03 00:00:00', freq='D'),\n",
       " Timestamp('2001-03-04 00:00:00', freq='D'),\n",
       " Timestamp('2001-03-05 00:00:00', freq='D'),\n",
       " Timestamp('2001-03-06 00:00:00', freq='D'),\n",
       " Timestamp('2001-03-07 00:00:00', freq='D'),\n",
       " Timestamp('2001-03-08 00:00:00', freq='D'),\n",
       " Timestamp('2001-03-09 00:00:00', freq='D'),\n",
       " Timestamp('2001-03-10 00:00:00', freq='D'),\n",
       " Timestamp('2001-03-11 00:00:00', freq='D'),\n",
       " Timestamp('2001-03-12 00:00:00', freq='D'),\n",
       " Timestamp('2001-03-13 00:00:00', freq='D'),\n",
       " Timestamp('2001-03-14 00:00:00', freq='D'),\n",
       " Timestamp('2001-03-15 00:00:00', freq='D'),\n",
       " Timestamp('2001-03-16 00:00:00', freq='D'),\n",
       " Timestamp('2001-03-17 00:00:00', freq='D'),\n",
       " Timestamp('2001-03-18 00:00:00', freq='D'),\n",
       " Timestamp('2001-03-19 00:00:00', freq='D'),\n",
       " Timestamp('2001-03-20 00:00:00', freq='D'),\n",
       " Timestamp('2001-03-21 00:00:00', freq='D'),\n",
       " Timestamp('2001-03-22 00:00:00', freq='D'),\n",
       " Timestamp('2001-03-23 00:00:00', freq='D'),\n",
       " Timestamp('2001-03-24 00:00:00', freq='D'),\n",
       " Timestamp('2001-03-25 00:00:00', freq='D'),\n",
       " Timestamp('2001-03-26 00:00:00', freq='D'),\n",
       " Timestamp('2001-03-27 00:00:00', freq='D'),\n",
       " Timestamp('2001-03-28 00:00:00', freq='D'),\n",
       " Timestamp('2001-03-29 00:00:00', freq='D'),\n",
       " Timestamp('2001-03-30 00:00:00', freq='D'),\n",
       " Timestamp('2001-03-31 00:00:00', freq='D'),\n",
       " Timestamp('2001-04-01 00:00:00', freq='D'),\n",
       " Timestamp('2001-04-02 00:00:00', freq='D'),\n",
       " Timestamp('2001-04-03 00:00:00', freq='D'),\n",
       " Timestamp('2001-04-04 00:00:00', freq='D'),\n",
       " Timestamp('2001-04-05 00:00:00', freq='D'),\n",
       " Timestamp('2001-04-06 00:00:00', freq='D'),\n",
       " Timestamp('2001-04-07 00:00:00', freq='D'),\n",
       " Timestamp('2001-04-08 00:00:00', freq='D'),\n",
       " Timestamp('2001-04-09 00:00:00', freq='D'),\n",
       " Timestamp('2001-04-10 00:00:00', freq='D'),\n",
       " Timestamp('2001-04-11 00:00:00', freq='D'),\n",
       " Timestamp('2001-04-12 00:00:00', freq='D'),\n",
       " Timestamp('2001-04-13 00:00:00', freq='D'),\n",
       " Timestamp('2001-04-14 00:00:00', freq='D'),\n",
       " Timestamp('2001-04-15 00:00:00', freq='D'),\n",
       " Timestamp('2001-04-16 00:00:00', freq='D'),\n",
       " Timestamp('2001-04-17 00:00:00', freq='D'),\n",
       " Timestamp('2001-04-18 00:00:00', freq='D'),\n",
       " Timestamp('2001-04-19 00:00:00', freq='D'),\n",
       " Timestamp('2001-04-20 00:00:00', freq='D'),\n",
       " Timestamp('2001-04-21 00:00:00', freq='D'),\n",
       " Timestamp('2001-04-22 00:00:00', freq='D'),\n",
       " Timestamp('2001-04-23 00:00:00', freq='D'),\n",
       " Timestamp('2001-04-24 00:00:00', freq='D'),\n",
       " Timestamp('2001-04-25 00:00:00', freq='D'),\n",
       " Timestamp('2001-04-26 00:00:00', freq='D'),\n",
       " Timestamp('2001-04-27 00:00:00', freq='D'),\n",
       " Timestamp('2001-04-28 00:00:00', freq='D'),\n",
       " Timestamp('2001-04-29 00:00:00', freq='D'),\n",
       " Timestamp('2001-04-30 00:00:00', freq='D'),\n",
       " Timestamp('2001-05-01 00:00:00', freq='D'),\n",
       " Timestamp('2001-05-02 00:00:00', freq='D'),\n",
       " Timestamp('2001-05-03 00:00:00', freq='D'),\n",
       " Timestamp('2001-05-04 00:00:00', freq='D'),\n",
       " Timestamp('2001-05-05 00:00:00', freq='D'),\n",
       " Timestamp('2001-05-06 00:00:00', freq='D'),\n",
       " Timestamp('2001-05-07 00:00:00', freq='D'),\n",
       " Timestamp('2001-05-08 00:00:00', freq='D'),\n",
       " Timestamp('2001-05-09 00:00:00', freq='D'),\n",
       " Timestamp('2001-05-10 00:00:00', freq='D'),\n",
       " Timestamp('2001-05-11 00:00:00', freq='D'),\n",
       " Timestamp('2001-05-12 00:00:00', freq='D'),\n",
       " Timestamp('2001-05-13 00:00:00', freq='D'),\n",
       " Timestamp('2001-05-14 00:00:00', freq='D'),\n",
       " Timestamp('2001-05-15 00:00:00', freq='D'),\n",
       " Timestamp('2001-05-16 00:00:00', freq='D'),\n",
       " Timestamp('2001-05-17 00:00:00', freq='D'),\n",
       " Timestamp('2001-05-18 00:00:00', freq='D'),\n",
       " Timestamp('2001-05-19 00:00:00', freq='D'),\n",
       " Timestamp('2001-05-20 00:00:00', freq='D'),\n",
       " Timestamp('2001-05-21 00:00:00', freq='D'),\n",
       " Timestamp('2001-05-22 00:00:00', freq='D'),\n",
       " Timestamp('2001-05-23 00:00:00', freq='D'),\n",
       " Timestamp('2001-05-24 00:00:00', freq='D'),\n",
       " Timestamp('2001-05-25 00:00:00', freq='D'),\n",
       " Timestamp('2001-05-26 00:00:00', freq='D'),\n",
       " Timestamp('2001-05-27 00:00:00', freq='D'),\n",
       " Timestamp('2001-05-28 00:00:00', freq='D'),\n",
       " Timestamp('2001-05-29 00:00:00', freq='D'),\n",
       " Timestamp('2001-05-30 00:00:00', freq='D'),\n",
       " Timestamp('2001-05-31 00:00:00', freq='D'),\n",
       " Timestamp('2001-06-01 00:00:00', freq='D'),\n",
       " Timestamp('2001-06-02 00:00:00', freq='D'),\n",
       " Timestamp('2001-06-03 00:00:00', freq='D'),\n",
       " Timestamp('2001-06-04 00:00:00', freq='D'),\n",
       " Timestamp('2001-06-05 00:00:00', freq='D'),\n",
       " Timestamp('2001-06-06 00:00:00', freq='D'),\n",
       " Timestamp('2001-06-07 00:00:00', freq='D'),\n",
       " Timestamp('2001-06-08 00:00:00', freq='D'),\n",
       " Timestamp('2001-06-09 00:00:00', freq='D'),\n",
       " Timestamp('2001-06-10 00:00:00', freq='D'),\n",
       " Timestamp('2001-06-11 00:00:00', freq='D'),\n",
       " Timestamp('2001-06-12 00:00:00', freq='D'),\n",
       " Timestamp('2001-06-13 00:00:00', freq='D'),\n",
       " Timestamp('2001-06-14 00:00:00', freq='D'),\n",
       " Timestamp('2001-06-15 00:00:00', freq='D'),\n",
       " Timestamp('2001-06-16 00:00:00', freq='D'),\n",
       " Timestamp('2001-06-17 00:00:00', freq='D'),\n",
       " Timestamp('2001-06-18 00:00:00', freq='D'),\n",
       " Timestamp('2001-06-19 00:00:00', freq='D'),\n",
       " Timestamp('2001-06-20 00:00:00', freq='D'),\n",
       " Timestamp('2001-06-21 00:00:00', freq='D'),\n",
       " Timestamp('2001-06-22 00:00:00', freq='D'),\n",
       " Timestamp('2001-06-23 00:00:00', freq='D'),\n",
       " Timestamp('2001-06-24 00:00:00', freq='D'),\n",
       " Timestamp('2001-06-25 00:00:00', freq='D'),\n",
       " Timestamp('2001-06-26 00:00:00', freq='D'),\n",
       " Timestamp('2001-06-27 00:00:00', freq='D'),\n",
       " Timestamp('2001-06-28 00:00:00', freq='D'),\n",
       " Timestamp('2001-06-29 00:00:00', freq='D'),\n",
       " Timestamp('2001-06-30 00:00:00', freq='D'),\n",
       " Timestamp('2001-07-01 00:00:00', freq='D'),\n",
       " Timestamp('2001-07-02 00:00:00', freq='D'),\n",
       " Timestamp('2001-07-03 00:00:00', freq='D'),\n",
       " Timestamp('2001-07-04 00:00:00', freq='D'),\n",
       " Timestamp('2001-07-05 00:00:00', freq='D'),\n",
       " Timestamp('2001-07-06 00:00:00', freq='D'),\n",
       " Timestamp('2001-07-07 00:00:00', freq='D'),\n",
       " Timestamp('2001-07-08 00:00:00', freq='D'),\n",
       " Timestamp('2001-07-09 00:00:00', freq='D'),\n",
       " Timestamp('2001-07-10 00:00:00', freq='D'),\n",
       " Timestamp('2001-07-11 00:00:00', freq='D'),\n",
       " Timestamp('2001-07-12 00:00:00', freq='D'),\n",
       " Timestamp('2001-07-13 00:00:00', freq='D'),\n",
       " Timestamp('2001-07-14 00:00:00', freq='D'),\n",
       " Timestamp('2001-07-15 00:00:00', freq='D'),\n",
       " Timestamp('2001-07-16 00:00:00', freq='D'),\n",
       " Timestamp('2001-07-17 00:00:00', freq='D'),\n",
       " Timestamp('2001-07-18 00:00:00', freq='D'),\n",
       " Timestamp('2001-07-19 00:00:00', freq='D'),\n",
       " Timestamp('2001-07-20 00:00:00', freq='D'),\n",
       " Timestamp('2001-07-21 00:00:00', freq='D'),\n",
       " Timestamp('2001-07-22 00:00:00', freq='D'),\n",
       " Timestamp('2001-07-23 00:00:00', freq='D'),\n",
       " Timestamp('2001-07-24 00:00:00', freq='D'),\n",
       " Timestamp('2001-07-25 00:00:00', freq='D'),\n",
       " Timestamp('2001-07-26 00:00:00', freq='D'),\n",
       " Timestamp('2001-07-27 00:00:00', freq='D'),\n",
       " Timestamp('2001-07-28 00:00:00', freq='D'),\n",
       " Timestamp('2001-07-29 00:00:00', freq='D'),\n",
       " Timestamp('2001-07-30 00:00:00', freq='D'),\n",
       " Timestamp('2001-07-31 00:00:00', freq='D'),\n",
       " Timestamp('2001-08-01 00:00:00', freq='D'),\n",
       " Timestamp('2001-08-02 00:00:00', freq='D'),\n",
       " Timestamp('2001-08-03 00:00:00', freq='D'),\n",
       " Timestamp('2001-08-04 00:00:00', freq='D'),\n",
       " Timestamp('2001-08-05 00:00:00', freq='D'),\n",
       " Timestamp('2001-08-06 00:00:00', freq='D'),\n",
       " Timestamp('2001-08-07 00:00:00', freq='D'),\n",
       " Timestamp('2001-08-08 00:00:00', freq='D'),\n",
       " Timestamp('2001-08-09 00:00:00', freq='D'),\n",
       " Timestamp('2001-08-10 00:00:00', freq='D'),\n",
       " Timestamp('2001-08-11 00:00:00', freq='D'),\n",
       " Timestamp('2001-08-12 00:00:00', freq='D'),\n",
       " Timestamp('2001-08-13 00:00:00', freq='D'),\n",
       " Timestamp('2001-08-14 00:00:00', freq='D'),\n",
       " Timestamp('2001-08-15 00:00:00', freq='D'),\n",
       " Timestamp('2001-08-16 00:00:00', freq='D'),\n",
       " Timestamp('2001-08-17 00:00:00', freq='D'),\n",
       " Timestamp('2001-08-18 00:00:00', freq='D'),\n",
       " Timestamp('2001-08-19 00:00:00', freq='D'),\n",
       " Timestamp('2001-08-20 00:00:00', freq='D'),\n",
       " Timestamp('2001-08-21 00:00:00', freq='D'),\n",
       " Timestamp('2001-08-22 00:00:00', freq='D'),\n",
       " Timestamp('2001-08-23 00:00:00', freq='D'),\n",
       " Timestamp('2001-08-24 00:00:00', freq='D'),\n",
       " Timestamp('2001-08-25 00:00:00', freq='D'),\n",
       " Timestamp('2001-08-26 00:00:00', freq='D'),\n",
       " Timestamp('2001-08-27 00:00:00', freq='D'),\n",
       " Timestamp('2001-08-28 00:00:00', freq='D'),\n",
       " Timestamp('2001-08-29 00:00:00', freq='D'),\n",
       " Timestamp('2001-08-30 00:00:00', freq='D'),\n",
       " Timestamp('2001-08-31 00:00:00', freq='D'),\n",
       " Timestamp('2001-09-01 00:00:00', freq='D'),\n",
       " Timestamp('2001-09-02 00:00:00', freq='D'),\n",
       " Timestamp('2001-09-03 00:00:00', freq='D'),\n",
       " Timestamp('2001-09-04 00:00:00', freq='D'),\n",
       " Timestamp('2001-09-05 00:00:00', freq='D'),\n",
       " Timestamp('2001-09-06 00:00:00', freq='D'),\n",
       " Timestamp('2001-09-07 00:00:00', freq='D'),\n",
       " Timestamp('2001-09-08 00:00:00', freq='D'),\n",
       " Timestamp('2001-09-09 00:00:00', freq='D'),\n",
       " Timestamp('2001-09-10 00:00:00', freq='D'),\n",
       " Timestamp('2001-09-11 00:00:00', freq='D'),\n",
       " Timestamp('2001-09-12 00:00:00', freq='D'),\n",
       " Timestamp('2001-09-13 00:00:00', freq='D'),\n",
       " Timestamp('2001-09-14 00:00:00', freq='D'),\n",
       " Timestamp('2001-09-15 00:00:00', freq='D'),\n",
       " Timestamp('2001-09-16 00:00:00', freq='D'),\n",
       " Timestamp('2001-09-17 00:00:00', freq='D'),\n",
       " Timestamp('2001-09-18 00:00:00', freq='D'),\n",
       " Timestamp('2001-09-19 00:00:00', freq='D'),\n",
       " Timestamp('2001-09-20 00:00:00', freq='D'),\n",
       " Timestamp('2001-09-21 00:00:00', freq='D'),\n",
       " Timestamp('2001-09-22 00:00:00', freq='D'),\n",
       " Timestamp('2001-09-23 00:00:00', freq='D'),\n",
       " Timestamp('2001-09-24 00:00:00', freq='D'),\n",
       " Timestamp('2001-09-25 00:00:00', freq='D'),\n",
       " Timestamp('2001-09-26 00:00:00', freq='D'),\n",
       " Timestamp('2001-09-27 00:00:00', freq='D'),\n",
       " Timestamp('2001-09-28 00:00:00', freq='D'),\n",
       " Timestamp('2001-09-29 00:00:00', freq='D'),\n",
       " Timestamp('2001-09-30 00:00:00', freq='D'),\n",
       " Timestamp('2001-10-01 00:00:00', freq='D'),\n",
       " Timestamp('2001-10-02 00:00:00', freq='D'),\n",
       " Timestamp('2001-10-03 00:00:00', freq='D'),\n",
       " Timestamp('2001-10-04 00:00:00', freq='D'),\n",
       " Timestamp('2001-10-05 00:00:00', freq='D'),\n",
       " Timestamp('2001-10-06 00:00:00', freq='D'),\n",
       " Timestamp('2001-10-07 00:00:00', freq='D'),\n",
       " Timestamp('2001-10-08 00:00:00', freq='D'),\n",
       " Timestamp('2001-10-09 00:00:00', freq='D'),\n",
       " Timestamp('2001-10-10 00:00:00', freq='D'),\n",
       " Timestamp('2001-10-11 00:00:00', freq='D'),\n",
       " Timestamp('2001-10-12 00:00:00', freq='D'),\n",
       " Timestamp('2001-10-13 00:00:00', freq='D'),\n",
       " Timestamp('2001-10-14 00:00:00', freq='D'),\n",
       " Timestamp('2001-10-15 00:00:00', freq='D'),\n",
       " Timestamp('2001-10-16 00:00:00', freq='D'),\n",
       " Timestamp('2001-10-17 00:00:00', freq='D'),\n",
       " Timestamp('2001-10-18 00:00:00', freq='D'),\n",
       " Timestamp('2001-10-19 00:00:00', freq='D'),\n",
       " Timestamp('2001-10-20 00:00:00', freq='D'),\n",
       " Timestamp('2001-10-21 00:00:00', freq='D'),\n",
       " Timestamp('2001-10-22 00:00:00', freq='D'),\n",
       " Timestamp('2001-10-23 00:00:00', freq='D'),\n",
       " Timestamp('2001-10-24 00:00:00', freq='D'),\n",
       " Timestamp('2001-10-25 00:00:00', freq='D'),\n",
       " Timestamp('2001-10-26 00:00:00', freq='D'),\n",
       " Timestamp('2001-10-27 00:00:00', freq='D'),\n",
       " Timestamp('2001-10-28 00:00:00', freq='D'),\n",
       " Timestamp('2001-10-29 00:00:00', freq='D'),\n",
       " Timestamp('2001-10-30 00:00:00', freq='D'),\n",
       " Timestamp('2001-10-31 00:00:00', freq='D'),\n",
       " Timestamp('2001-11-01 00:00:00', freq='D'),\n",
       " Timestamp('2001-11-02 00:00:00', freq='D'),\n",
       " Timestamp('2001-11-03 00:00:00', freq='D'),\n",
       " Timestamp('2001-11-04 00:00:00', freq='D'),\n",
       " Timestamp('2001-11-05 00:00:00', freq='D'),\n",
       " Timestamp('2001-11-06 00:00:00', freq='D'),\n",
       " Timestamp('2001-11-07 00:00:00', freq='D'),\n",
       " Timestamp('2001-11-08 00:00:00', freq='D'),\n",
       " Timestamp('2001-11-09 00:00:00', freq='D'),\n",
       " Timestamp('2001-11-10 00:00:00', freq='D'),\n",
       " Timestamp('2001-11-11 00:00:00', freq='D'),\n",
       " Timestamp('2001-11-12 00:00:00', freq='D'),\n",
       " Timestamp('2001-11-13 00:00:00', freq='D'),\n",
       " Timestamp('2001-11-14 00:00:00', freq='D'),\n",
       " Timestamp('2001-11-15 00:00:00', freq='D'),\n",
       " Timestamp('2001-11-16 00:00:00', freq='D'),\n",
       " Timestamp('2001-11-17 00:00:00', freq='D'),\n",
       " Timestamp('2001-11-18 00:00:00', freq='D'),\n",
       " Timestamp('2001-11-19 00:00:00', freq='D'),\n",
       " Timestamp('2001-11-20 00:00:00', freq='D'),\n",
       " Timestamp('2001-11-21 00:00:00', freq='D'),\n",
       " Timestamp('2001-11-22 00:00:00', freq='D'),\n",
       " Timestamp('2001-11-23 00:00:00', freq='D'),\n",
       " Timestamp('2001-11-24 00:00:00', freq='D'),\n",
       " Timestamp('2001-11-25 00:00:00', freq='D'),\n",
       " Timestamp('2001-11-26 00:00:00', freq='D'),\n",
       " Timestamp('2001-11-27 00:00:00', freq='D'),\n",
       " Timestamp('2001-11-28 00:00:00', freq='D'),\n",
       " Timestamp('2001-11-29 00:00:00', freq='D'),\n",
       " Timestamp('2001-11-30 00:00:00', freq='D'),\n",
       " Timestamp('2001-12-01 00:00:00', freq='D'),\n",
       " Timestamp('2001-12-02 00:00:00', freq='D'),\n",
       " Timestamp('2001-12-03 00:00:00', freq='D'),\n",
       " Timestamp('2001-12-04 00:00:00', freq='D'),\n",
       " Timestamp('2001-12-05 00:00:00', freq='D'),\n",
       " Timestamp('2001-12-06 00:00:00', freq='D'),\n",
       " Timestamp('2001-12-07 00:00:00', freq='D'),\n",
       " Timestamp('2001-12-08 00:00:00', freq='D'),\n",
       " Timestamp('2001-12-09 00:00:00', freq='D'),\n",
       " Timestamp('2001-12-10 00:00:00', freq='D'),\n",
       " Timestamp('2001-12-11 00:00:00', freq='D'),\n",
       " Timestamp('2001-12-12 00:00:00', freq='D'),\n",
       " Timestamp('2001-12-13 00:00:00', freq='D'),\n",
       " Timestamp('2001-12-14 00:00:00', freq='D'),\n",
       " Timestamp('2001-12-15 00:00:00', freq='D'),\n",
       " Timestamp('2001-12-16 00:00:00', freq='D'),\n",
       " Timestamp('2001-12-17 00:00:00', freq='D'),\n",
       " Timestamp('2001-12-18 00:00:00', freq='D'),\n",
       " Timestamp('2001-12-19 00:00:00', freq='D'),\n",
       " Timestamp('2001-12-20 00:00:00', freq='D'),\n",
       " Timestamp('2001-12-21 00:00:00', freq='D'),\n",
       " Timestamp('2001-12-22 00:00:00', freq='D'),\n",
       " Timestamp('2001-12-23 00:00:00', freq='D'),\n",
       " Timestamp('2001-12-24 00:00:00', freq='D'),\n",
       " Timestamp('2001-12-25 00:00:00', freq='D'),\n",
       " Timestamp('2001-12-26 00:00:00', freq='D'),\n",
       " Timestamp('2001-12-27 00:00:00', freq='D'),\n",
       " Timestamp('2001-12-28 00:00:00', freq='D'),\n",
       " Timestamp('2001-12-29 00:00:00', freq='D'),\n",
       " Timestamp('2001-12-30 00:00:00', freq='D'),\n",
       " Timestamp('2001-12-31 00:00:00', freq='D'),\n",
       " Timestamp('2002-01-01 00:00:00', freq='D'),\n",
       " Timestamp('2002-01-02 00:00:00', freq='D'),\n",
       " Timestamp('2002-01-03 00:00:00', freq='D'),\n",
       " Timestamp('2002-01-04 00:00:00', freq='D'),\n",
       " Timestamp('2002-01-05 00:00:00', freq='D'),\n",
       " Timestamp('2002-01-06 00:00:00', freq='D'),\n",
       " Timestamp('2002-01-07 00:00:00', freq='D'),\n",
       " Timestamp('2002-01-08 00:00:00', freq='D'),\n",
       " Timestamp('2002-01-09 00:00:00', freq='D'),\n",
       " Timestamp('2002-01-10 00:00:00', freq='D'),\n",
       " Timestamp('2002-01-11 00:00:00', freq='D'),\n",
       " Timestamp('2002-01-12 00:00:00', freq='D'),\n",
       " Timestamp('2002-01-13 00:00:00', freq='D'),\n",
       " Timestamp('2002-01-14 00:00:00', freq='D'),\n",
       " Timestamp('2002-01-15 00:00:00', freq='D'),\n",
       " Timestamp('2002-01-16 00:00:00', freq='D'),\n",
       " Timestamp('2002-01-17 00:00:00', freq='D'),\n",
       " Timestamp('2002-01-18 00:00:00', freq='D'),\n",
       " Timestamp('2002-01-19 00:00:00', freq='D'),\n",
       " Timestamp('2002-01-20 00:00:00', freq='D'),\n",
       " Timestamp('2002-01-21 00:00:00', freq='D'),\n",
       " Timestamp('2002-01-22 00:00:00', freq='D'),\n",
       " Timestamp('2002-01-23 00:00:00', freq='D'),\n",
       " Timestamp('2002-01-24 00:00:00', freq='D'),\n",
       " Timestamp('2002-01-25 00:00:00', freq='D'),\n",
       " Timestamp('2002-01-26 00:00:00', freq='D'),\n",
       " Timestamp('2002-01-27 00:00:00', freq='D'),\n",
       " Timestamp('2002-01-28 00:00:00', freq='D'),\n",
       " Timestamp('2002-01-29 00:00:00', freq='D'),\n",
       " Timestamp('2002-01-30 00:00:00', freq='D'),\n",
       " Timestamp('2002-01-31 00:00:00', freq='D'),\n",
       " Timestamp('2002-02-01 00:00:00', freq='D'),\n",
       " Timestamp('2002-02-02 00:00:00', freq='D'),\n",
       " Timestamp('2002-02-03 00:00:00', freq='D'),\n",
       " Timestamp('2002-02-04 00:00:00', freq='D'),\n",
       " Timestamp('2002-02-05 00:00:00', freq='D'),\n",
       " Timestamp('2002-02-06 00:00:00', freq='D'),\n",
       " Timestamp('2002-02-07 00:00:00', freq='D'),\n",
       " Timestamp('2002-02-08 00:00:00', freq='D'),\n",
       " Timestamp('2002-02-09 00:00:00', freq='D'),\n",
       " Timestamp('2002-02-10 00:00:00', freq='D'),\n",
       " Timestamp('2002-02-11 00:00:00', freq='D'),\n",
       " Timestamp('2002-02-12 00:00:00', freq='D'),\n",
       " Timestamp('2002-02-13 00:00:00', freq='D'),\n",
       " Timestamp('2002-02-14 00:00:00', freq='D'),\n",
       " Timestamp('2002-02-15 00:00:00', freq='D'),\n",
       " Timestamp('2002-02-16 00:00:00', freq='D'),\n",
       " Timestamp('2002-02-17 00:00:00', freq='D'),\n",
       " Timestamp('2002-02-18 00:00:00', freq='D'),\n",
       " Timestamp('2002-02-19 00:00:00', freq='D'),\n",
       " Timestamp('2002-02-20 00:00:00', freq='D'),\n",
       " Timestamp('2002-02-21 00:00:00', freq='D'),\n",
       " Timestamp('2002-02-22 00:00:00', freq='D'),\n",
       " Timestamp('2002-02-23 00:00:00', freq='D'),\n",
       " Timestamp('2002-02-24 00:00:00', freq='D'),\n",
       " Timestamp('2002-02-25 00:00:00', freq='D'),\n",
       " Timestamp('2002-02-26 00:00:00', freq='D'),\n",
       " Timestamp('2002-02-27 00:00:00', freq='D'),\n",
       " Timestamp('2002-02-28 00:00:00', freq='D'),\n",
       " Timestamp('2002-03-01 00:00:00', freq='D'),\n",
       " Timestamp('2002-03-02 00:00:00', freq='D'),\n",
       " Timestamp('2002-03-03 00:00:00', freq='D'),\n",
       " Timestamp('2002-03-04 00:00:00', freq='D'),\n",
       " Timestamp('2002-03-05 00:00:00', freq='D'),\n",
       " Timestamp('2002-03-06 00:00:00', freq='D'),\n",
       " Timestamp('2002-03-07 00:00:00', freq='D'),\n",
       " Timestamp('2002-03-08 00:00:00', freq='D'),\n",
       " Timestamp('2002-03-09 00:00:00', freq='D'),\n",
       " Timestamp('2002-03-10 00:00:00', freq='D'),\n",
       " Timestamp('2002-03-11 00:00:00', freq='D'),\n",
       " Timestamp('2002-03-12 00:00:00', freq='D'),\n",
       " Timestamp('2002-03-13 00:00:00', freq='D'),\n",
       " Timestamp('2002-03-14 00:00:00', freq='D'),\n",
       " Timestamp('2002-03-15 00:00:00', freq='D'),\n",
       " Timestamp('2002-03-16 00:00:00', freq='D'),\n",
       " Timestamp('2002-03-17 00:00:00', freq='D'),\n",
       " Timestamp('2002-03-18 00:00:00', freq='D'),\n",
       " Timestamp('2002-03-19 00:00:00', freq='D'),\n",
       " Timestamp('2002-03-20 00:00:00', freq='D'),\n",
       " Timestamp('2002-03-21 00:00:00', freq='D'),\n",
       " Timestamp('2002-03-22 00:00:00', freq='D'),\n",
       " Timestamp('2002-03-23 00:00:00', freq='D'),\n",
       " Timestamp('2002-03-24 00:00:00', freq='D'),\n",
       " Timestamp('2002-03-25 00:00:00', freq='D'),\n",
       " Timestamp('2002-03-26 00:00:00', freq='D'),\n",
       " Timestamp('2002-03-27 00:00:00', freq='D'),\n",
       " Timestamp('2002-03-28 00:00:00', freq='D'),\n",
       " Timestamp('2002-03-29 00:00:00', freq='D'),\n",
       " Timestamp('2002-03-30 00:00:00', freq='D'),\n",
       " Timestamp('2002-03-31 00:00:00', freq='D'),\n",
       " Timestamp('2002-04-01 00:00:00', freq='D'),\n",
       " Timestamp('2002-04-02 00:00:00', freq='D'),\n",
       " Timestamp('2002-04-03 00:00:00', freq='D'),\n",
       " Timestamp('2002-04-04 00:00:00', freq='D'),\n",
       " Timestamp('2002-04-05 00:00:00', freq='D'),\n",
       " Timestamp('2002-04-06 00:00:00', freq='D'),\n",
       " Timestamp('2002-04-07 00:00:00', freq='D'),\n",
       " Timestamp('2002-04-08 00:00:00', freq='D'),\n",
       " Timestamp('2002-04-09 00:00:00', freq='D'),\n",
       " Timestamp('2002-04-10 00:00:00', freq='D'),\n",
       " Timestamp('2002-04-11 00:00:00', freq='D'),\n",
       " Timestamp('2002-04-12 00:00:00', freq='D'),\n",
       " Timestamp('2002-04-13 00:00:00', freq='D'),\n",
       " Timestamp('2002-04-14 00:00:00', freq='D'),\n",
       " Timestamp('2002-04-15 00:00:00', freq='D'),\n",
       " Timestamp('2002-04-16 00:00:00', freq='D'),\n",
       " Timestamp('2002-04-17 00:00:00', freq='D'),\n",
       " Timestamp('2002-04-18 00:00:00', freq='D'),\n",
       " Timestamp('2002-04-19 00:00:00', freq='D'),\n",
       " Timestamp('2002-04-20 00:00:00', freq='D'),\n",
       " Timestamp('2002-04-21 00:00:00', freq='D'),\n",
       " Timestamp('2002-04-22 00:00:00', freq='D'),\n",
       " Timestamp('2002-04-23 00:00:00', freq='D'),\n",
       " Timestamp('2002-04-24 00:00:00', freq='D'),\n",
       " Timestamp('2002-04-25 00:00:00', freq='D'),\n",
       " Timestamp('2002-04-26 00:00:00', freq='D'),\n",
       " Timestamp('2002-04-27 00:00:00', freq='D'),\n",
       " Timestamp('2002-04-28 00:00:00', freq='D'),\n",
       " Timestamp('2002-04-29 00:00:00', freq='D'),\n",
       " Timestamp('2002-04-30 00:00:00', freq='D'),\n",
       " Timestamp('2002-05-01 00:00:00', freq='D'),\n",
       " Timestamp('2002-05-02 00:00:00', freq='D'),\n",
       " Timestamp('2002-05-03 00:00:00', freq='D'),\n",
       " Timestamp('2002-05-04 00:00:00', freq='D'),\n",
       " Timestamp('2002-05-05 00:00:00', freq='D'),\n",
       " Timestamp('2002-05-06 00:00:00', freq='D'),\n",
       " Timestamp('2002-05-07 00:00:00', freq='D'),\n",
       " Timestamp('2002-05-08 00:00:00', freq='D'),\n",
       " Timestamp('2002-05-09 00:00:00', freq='D'),\n",
       " Timestamp('2002-05-10 00:00:00', freq='D'),\n",
       " Timestamp('2002-05-11 00:00:00', freq='D'),\n",
       " Timestamp('2002-05-12 00:00:00', freq='D'),\n",
       " Timestamp('2002-05-13 00:00:00', freq='D'),\n",
       " Timestamp('2002-05-14 00:00:00', freq='D'),\n",
       " Timestamp('2002-05-15 00:00:00', freq='D'),\n",
       " Timestamp('2002-05-16 00:00:00', freq='D'),\n",
       " Timestamp('2002-05-17 00:00:00', freq='D'),\n",
       " Timestamp('2002-05-18 00:00:00', freq='D'),\n",
       " Timestamp('2002-05-19 00:00:00', freq='D'),\n",
       " Timestamp('2002-05-20 00:00:00', freq='D'),\n",
       " Timestamp('2002-05-21 00:00:00', freq='D'),\n",
       " Timestamp('2002-05-22 00:00:00', freq='D'),\n",
       " Timestamp('2002-05-23 00:00:00', freq='D'),\n",
       " Timestamp('2002-05-24 00:00:00', freq='D'),\n",
       " Timestamp('2002-05-25 00:00:00', freq='D'),\n",
       " Timestamp('2002-05-26 00:00:00', freq='D'),\n",
       " Timestamp('2002-05-27 00:00:00', freq='D'),\n",
       " Timestamp('2002-05-28 00:00:00', freq='D'),\n",
       " Timestamp('2002-05-29 00:00:00', freq='D'),\n",
       " Timestamp('2002-05-30 00:00:00', freq='D'),\n",
       " Timestamp('2002-05-31 00:00:00', freq='D'),\n",
       " Timestamp('2002-06-01 00:00:00', freq='D'),\n",
       " Timestamp('2002-06-02 00:00:00', freq='D'),\n",
       " Timestamp('2002-06-03 00:00:00', freq='D'),\n",
       " Timestamp('2002-06-04 00:00:00', freq='D'),\n",
       " Timestamp('2002-06-05 00:00:00', freq='D'),\n",
       " Timestamp('2002-06-06 00:00:00', freq='D'),\n",
       " Timestamp('2002-06-07 00:00:00', freq='D'),\n",
       " Timestamp('2002-06-08 00:00:00', freq='D'),\n",
       " Timestamp('2002-06-09 00:00:00', freq='D'),\n",
       " Timestamp('2002-06-10 00:00:00', freq='D'),\n",
       " Timestamp('2002-06-11 00:00:00', freq='D'),\n",
       " Timestamp('2002-06-12 00:00:00', freq='D'),\n",
       " Timestamp('2002-06-13 00:00:00', freq='D'),\n",
       " Timestamp('2002-06-14 00:00:00', freq='D'),\n",
       " Timestamp('2002-06-15 00:00:00', freq='D'),\n",
       " Timestamp('2002-06-16 00:00:00', freq='D'),\n",
       " Timestamp('2002-06-17 00:00:00', freq='D'),\n",
       " Timestamp('2002-06-18 00:00:00', freq='D'),\n",
       " Timestamp('2002-06-19 00:00:00', freq='D'),\n",
       " Timestamp('2002-06-20 00:00:00', freq='D'),\n",
       " Timestamp('2002-06-21 00:00:00', freq='D'),\n",
       " Timestamp('2002-06-22 00:00:00', freq='D'),\n",
       " Timestamp('2002-06-23 00:00:00', freq='D'),\n",
       " Timestamp('2002-06-24 00:00:00', freq='D'),\n",
       " Timestamp('2002-06-25 00:00:00', freq='D'),\n",
       " Timestamp('2002-06-26 00:00:00', freq='D'),\n",
       " Timestamp('2002-06-27 00:00:00', freq='D'),\n",
       " Timestamp('2002-06-28 00:00:00', freq='D'),\n",
       " Timestamp('2002-06-29 00:00:00', freq='D'),\n",
       " Timestamp('2002-06-30 00:00:00', freq='D'),\n",
       " Timestamp('2002-07-01 00:00:00', freq='D'),\n",
       " Timestamp('2002-07-02 00:00:00', freq='D'),\n",
       " Timestamp('2002-07-03 00:00:00', freq='D'),\n",
       " Timestamp('2002-07-04 00:00:00', freq='D'),\n",
       " Timestamp('2002-07-05 00:00:00', freq='D'),\n",
       " Timestamp('2002-07-06 00:00:00', freq='D'),\n",
       " Timestamp('2002-07-07 00:00:00', freq='D'),\n",
       " Timestamp('2002-07-08 00:00:00', freq='D'),\n",
       " Timestamp('2002-07-09 00:00:00', freq='D'),\n",
       " Timestamp('2002-07-10 00:00:00', freq='D'),\n",
       " Timestamp('2002-07-11 00:00:00', freq='D'),\n",
       " Timestamp('2002-07-12 00:00:00', freq='D'),\n",
       " Timestamp('2002-07-13 00:00:00', freq='D'),\n",
       " Timestamp('2002-07-14 00:00:00', freq='D'),\n",
       " Timestamp('2002-07-15 00:00:00', freq='D'),\n",
       " Timestamp('2002-07-16 00:00:00', freq='D'),\n",
       " Timestamp('2002-07-17 00:00:00', freq='D'),\n",
       " Timestamp('2002-07-18 00:00:00', freq='D'),\n",
       " Timestamp('2002-07-19 00:00:00', freq='D'),\n",
       " Timestamp('2002-07-20 00:00:00', freq='D'),\n",
       " Timestamp('2002-07-21 00:00:00', freq='D'),\n",
       " Timestamp('2002-07-22 00:00:00', freq='D'),\n",
       " Timestamp('2002-07-23 00:00:00', freq='D'),\n",
       " Timestamp('2002-07-24 00:00:00', freq='D'),\n",
       " Timestamp('2002-07-25 00:00:00', freq='D'),\n",
       " Timestamp('2002-07-26 00:00:00', freq='D'),\n",
       " Timestamp('2002-07-27 00:00:00', freq='D'),\n",
       " Timestamp('2002-07-28 00:00:00', freq='D'),\n",
       " Timestamp('2002-07-29 00:00:00', freq='D'),\n",
       " Timestamp('2002-07-30 00:00:00', freq='D'),\n",
       " Timestamp('2002-07-31 00:00:00', freq='D'),\n",
       " Timestamp('2002-08-01 00:00:00', freq='D'),\n",
       " Timestamp('2002-08-02 00:00:00', freq='D'),\n",
       " Timestamp('2002-08-03 00:00:00', freq='D'),\n",
       " Timestamp('2002-08-04 00:00:00', freq='D'),\n",
       " Timestamp('2002-08-05 00:00:00', freq='D'),\n",
       " Timestamp('2002-08-06 00:00:00', freq='D'),\n",
       " Timestamp('2002-08-07 00:00:00', freq='D'),\n",
       " Timestamp('2002-08-08 00:00:00', freq='D'),\n",
       " Timestamp('2002-08-09 00:00:00', freq='D'),\n",
       " Timestamp('2002-08-10 00:00:00', freq='D'),\n",
       " Timestamp('2002-08-11 00:00:00', freq='D'),\n",
       " Timestamp('2002-08-12 00:00:00', freq='D'),\n",
       " Timestamp('2002-08-13 00:00:00', freq='D'),\n",
       " Timestamp('2002-08-14 00:00:00', freq='D'),\n",
       " Timestamp('2002-08-15 00:00:00', freq='D'),\n",
       " Timestamp('2002-08-16 00:00:00', freq='D'),\n",
       " Timestamp('2002-08-17 00:00:00', freq='D'),\n",
       " Timestamp('2002-08-18 00:00:00', freq='D'),\n",
       " Timestamp('2002-08-19 00:00:00', freq='D'),\n",
       " Timestamp('2002-08-20 00:00:00', freq='D'),\n",
       " Timestamp('2002-08-21 00:00:00', freq='D'),\n",
       " Timestamp('2002-08-22 00:00:00', freq='D'),\n",
       " Timestamp('2002-08-23 00:00:00', freq='D'),\n",
       " Timestamp('2002-08-24 00:00:00', freq='D'),\n",
       " Timestamp('2002-08-25 00:00:00', freq='D'),\n",
       " Timestamp('2002-08-26 00:00:00', freq='D'),\n",
       " Timestamp('2002-08-27 00:00:00', freq='D'),\n",
       " Timestamp('2002-08-28 00:00:00', freq='D'),\n",
       " Timestamp('2002-08-29 00:00:00', freq='D'),\n",
       " Timestamp('2002-08-30 00:00:00', freq='D'),\n",
       " Timestamp('2002-08-31 00:00:00', freq='D'),\n",
       " Timestamp('2002-09-01 00:00:00', freq='D'),\n",
       " Timestamp('2002-09-02 00:00:00', freq='D'),\n",
       " Timestamp('2002-09-03 00:00:00', freq='D'),\n",
       " Timestamp('2002-09-04 00:00:00', freq='D'),\n",
       " Timestamp('2002-09-05 00:00:00', freq='D'),\n",
       " Timestamp('2002-09-06 00:00:00', freq='D'),\n",
       " Timestamp('2002-09-07 00:00:00', freq='D'),\n",
       " Timestamp('2002-09-08 00:00:00', freq='D'),\n",
       " Timestamp('2002-09-09 00:00:00', freq='D'),\n",
       " Timestamp('2002-09-10 00:00:00', freq='D'),\n",
       " Timestamp('2002-09-11 00:00:00', freq='D'),\n",
       " Timestamp('2002-09-12 00:00:00', freq='D'),\n",
       " Timestamp('2002-09-13 00:00:00', freq='D'),\n",
       " Timestamp('2002-09-14 00:00:00', freq='D'),\n",
       " Timestamp('2002-09-15 00:00:00', freq='D'),\n",
       " Timestamp('2002-09-16 00:00:00', freq='D'),\n",
       " Timestamp('2002-09-17 00:00:00', freq='D'),\n",
       " Timestamp('2002-09-18 00:00:00', freq='D'),\n",
       " Timestamp('2002-09-19 00:00:00', freq='D'),\n",
       " Timestamp('2002-09-20 00:00:00', freq='D'),\n",
       " Timestamp('2002-09-21 00:00:00', freq='D'),\n",
       " Timestamp('2002-09-22 00:00:00', freq='D'),\n",
       " Timestamp('2002-09-23 00:00:00', freq='D'),\n",
       " Timestamp('2002-09-24 00:00:00', freq='D'),\n",
       " Timestamp('2002-09-25 00:00:00', freq='D'),\n",
       " Timestamp('2002-09-26 00:00:00', freq='D'),\n",
       " ...]"
      ]
     },
     "execution_count": 58,
     "metadata": {},
     "output_type": "execute_result"
    }
   ],
   "source": [
    "listaDatuma"
   ]
  },
  {
   "cell_type": "code",
   "execution_count": 59,
   "metadata": {},
   "outputs": [
    {
     "data": {
      "text/plain": [
       "(2+3j)"
      ]
     },
     "execution_count": 59,
     "metadata": {},
     "output_type": "execute_result"
    }
   ],
   "source": [
    "np.complex(2,3)"
   ]
  },
  {
   "cell_type": "code",
   "execution_count": 61,
   "metadata": {},
   "outputs": [
    {
     "name": "stdout",
     "output_type": "stream",
     "text": [
      "[24, 35, 70, 155]\n"
     ]
    }
   ],
   "source": [
    "li = [12,24,35,70,88,120,155]\n",
    "li = [x for (i,x) in enumerate(li) if i not in (0,4,5)]\n",
    "print (li)"
   ]
  },
  {
   "cell_type": "code",
   "execution_count": 64,
   "metadata": {},
   "outputs": [],
   "source": [
    "f1 = lambda x: x**2\n",
    "    \n",
    "# is equivalent to \n",
    "\n",
    "def f2(x):\n",
    "    return x**2"
   ]
  },
  {
   "cell_type": "code",
   "execution_count": 65,
   "metadata": {},
   "outputs": [
    {
     "data": {
      "image/png": "[encoded data removed]",
      "text/latex": [
       "$$\\left ( 4, \\quad 4\\right )$$"
      ],
      "text/plain": [
       "(4, 4)"
      ]
     },
     "execution_count": 65,
     "metadata": {},
     "output_type": "execute_result"
    }
   ],
   "source": [
    "f1(2), f2(2)"
   ]
  },
  {
   "cell_type": "code",
   "execution_count": 66,
   "metadata": {},
   "outputs": [
    {
     "data": {
      "text/plain": [
       "<map at 0x7f1902abef98>"
      ]
     },
     "execution_count": 66,
     "metadata": {},
     "output_type": "execute_result"
    }
   ],
   "source": [
    "# map is a built-in python function\n",
    "map(lambda x: x**2, range(-3,4))"
   ]
  },
  {
   "cell_type": "code",
   "execution_count": 67,
   "metadata": {},
   "outputs": [
    {
     "data": {
      "image/png": "[encoded data removed]",
      "text/latex": [
       "$$\\left [ 9, \\quad 4, \\quad 1, \\quad 0, \\quad 1, \\quad 4, \\quad 9\\right ]$$"
      ],
      "text/plain": [
       "[9, 4, 1, 0, 1, 4, 9]"
      ]
     },
     "execution_count": 67,
     "metadata": {},
     "output_type": "execute_result"
    }
   ],
   "source": [
    "# in python 3 we can use `list(...)` to convert the iterator to an explicit list\n",
    "list(map(lambda x: x**2, range(-3,4)))"
   ]
  },
  {
   "cell_type": "code",
   "execution_count": null,
   "metadata": {},
   "outputs": [],
   "source": []
  }
 ],
 "metadata": {
  "kernelspec": {
   "display_name": "Python 3",
   "language": "python",
   "name": "python3"
  },
  "language_info": {
   "codemirror_mode": {
    "name": "ipython",
    "version": 3
   },
   "file_extension": ".py",
   "mimetype": "text/x-python",
   "name": "python",
   "nbconvert_exporter": "python",
   "pygments_lexer": "ipython3",
   "version": "3.6.4"
  }
 },
 "nbformat": 4,
 "nbformat_minor": 2
}
