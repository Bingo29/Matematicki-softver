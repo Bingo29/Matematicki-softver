{
 "cells": [
  {
   "cell_type": "markdown",
   "metadata": {},
   "source": [
    "# ANALIZA FOREX TRŽIŠTA\n"
   ]
  },
  {
   "cell_type": "markdown",
   "metadata": {},
   "source": [
    "\n",
    "Forex ili FX tržište, dolazi od engleskih riječi __for__eign i __ex__change, a označava devizno tržište. Dnevni opseg trgovanja na Forex tržištu je 5,5 bilijuna dolara i ono je najlikvidnije i najtransparentnije tržište na svijetu. Osim valutnih parova, moguće je trgovati s naftom, zlatom, srebrom i drugim plemenitim metalima te mnogim drugim financijskim instrumentima. Trgovina se odvija preko platforme, dok je posrednik kompanija čiju platformu koristite."
   ]
  },
  {
   "cell_type": "markdown",
   "metadata": {},
   "source": [
    "U ovom radu, na temelju prošlih podataka, pokušat ćemo predvidjeti buduće koristeći SVM regresiju, te ćemo  izračunati korelacije podataka za razne parove parova valuta.\n",
    "Na kraju ćemo za svaki nacrtati pripadne grafove i donijeti zaključak.\n",
    "\n"
   ]
  },
  {
   "cell_type": "markdown",
   "metadata": {},
   "source": [
    "## Analiza podataka\n"
   ]
  },
  {
   "cell_type": "markdown",
   "metadata": {},
   "source": [
    "Podaci su preuzeti preko programa _MetaTrader 4 Admiral Markets_ i spremljeni u mapu _Podaci_.\n",
    "Odabrani podaci prikazuju 30-minutni interval trgovanja glavnim valutama, odnosno sve parove valuta: američki dolar (USD), euro od Europske ekonomske zajednice (EUR), japanski jen (JPY), britanska funta (GBP), švicarski franak (CHF) i australijski dolar (AUD)."
   ]
  },
  {
   "cell_type": "markdown",
   "metadata": {},
   "source": [
    "Značajke podataka su: \n",
    "    1. Time - 30-minutni interval trgovanja\n",
    "    2. Open - cijena parova valuta na početku zadanog intervala\n",
    "    3. High - najveća cijena parova valuta u zadanom intervalu\n",
    "    4. Low - najmanja cijena parova valuta u zadanom intervalu\n",
    "    5. Close - cijena parova valuta na kraju zadanog intervala\n",
    "    6. Volume - broj transakcija u zadanom intervalu\n",
    "\n"
   ]
  },
  {
   "cell_type": "code",
   "execution_count": 15,
   "metadata": {},
   "outputs": [
    {
     "name": "stdout",
     "output_type": "stream",
     "text": [
      "1971.01.04,00:00,0.53690,0.53690,0.53690,0.53690,1\n",
      "1971.01.05,00:00,0.53660,0.53660,0.53660,0.53660,1\n",
      "1971.01.06,00:00,0.53650,0.53650,0.53650,0.53650,1\n",
      "1971.01.07,00:00,0.53680,0.53680,0.53680,0.53680,1\n",
      "1971.01.08,00:00,0.53710,0.53710,0.53710,0.53710,1\n",
      "1971.01.11,00:00,0.53710,0.53710,0.53710,0.53710,1\n",
      "1971.01.12,00:00,0.53710,0.53710,0.53710,0.53710,1\n",
      "1971.01.13,00:00,0.53730,0.53730,0.53730,0.53730,1\n",
      "1971.01.14,00:00,0.53720,0.53720,0.53720,0.53720,1\n",
      "1971.01.15,00:00,0.53760,0.53760,0.53760,0.53760,1\n",
      "\n",
      "Uočimo da se za par EUR-USD ne pamti vrijeme, nego samo datum.\n",
      "\n",
      "1993.05.14,00:00,1.01940,1.01940,1.01940,1.01940,1\n",
      "1993.05.17,00:00,1.02950,1.02950,1.02950,1.02950,1\n",
      "1993.05.18,00:00,1.02480,1.02480,1.02480,1.02480,1\n",
      "1993.05.19,00:00,1.01950,1.01950,1.01950,1.01950,1\n",
      "1993.05.20,00:00,1.02140,1.02140,1.02140,1.02140,1\n",
      "1993.05.21,00:00,1.02100,1.02100,1.02100,1.02100,1\n",
      "1993.05.24,00:00,1.02140,1.02140,1.02140,1.02140,1\n",
      "1993.05.25,00:00,1.02170,1.02170,1.02170,1.02170,1\n",
      "1993.05.26,00:00,1.01630,1.01630,1.01630,1.01630,1\n",
      "1993.05.27,00:00,0.99140,0.99140,0.99140,0.99140,1\n",
      "\n",
      "Za par AUD-CHF datum početka trgovanja nije isti kao za prethodni par.\n",
      "\n"
     ]
    }
   ],
   "source": [
    "!head Podaci/EURUSD30.csv\n",
    "print(\"\\nUočimo da se za par EUR-USD ne pamti vrijeme, nego samo datum.\\n\")\n",
    "!head Podaci/AUDCHF30.csv\n",
    "print(\"\\nZa par AUD-CHF datum početka trgovanja nije isti kao za prethodni par.\\n\")"
   ]
  },
  {
   "cell_type": "markdown",
   "metadata": {},
   "source": [
    "Zbog različitih početaka trgovanja raznim valutama usredotočit ćemo se na podatke koji su dobiveni u jednakim intervalima kako bi ih mogli uspoređivati. Konkretno, analizirat ćemo podatke u zadnjih 5 godina."
   ]
  },
  {
   "cell_type": "code",
   "execution_count": null,
   "metadata": {},
   "outputs": [],
   "source": []
  }
 ],
 "metadata": {
  "kernelspec": {
   "display_name": "Python 3",
   "language": "python",
   "name": "python3"
  },
  "language_info": {
   "codemirror_mode": {
    "name": "ipython",
    "version": 3
   },
   "file_extension": ".py",
   "mimetype": "text/x-python",
   "name": "python",
   "nbconvert_exporter": "python",
   "pygments_lexer": "ipython3",
   "version": "3.6.4"
  }
 },
 "nbformat": 4,
 "nbformat_minor": 2
}
